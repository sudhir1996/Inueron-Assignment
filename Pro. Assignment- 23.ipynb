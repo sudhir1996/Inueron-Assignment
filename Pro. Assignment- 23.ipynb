{
 "cells": [
  {
   "cell_type": "code",
   "execution_count": null,
   "metadata": {},
   "outputs": [],
   "source": [
    "# 1. Create a function that takes a number as an argument and returns True or False depending on whether the number is symmetrical or not. A number is symmetrical when it is the same as its reverse.\n",
    "\n",
    "\n",
    "def is_symmetrical(num):\n",
    "    num=str(num)\n",
    "    return num[::]==num[::-1]\n",
    "\n",
    "print(is_symmetrical(7227))\n",
    "print(is_symmetrical(12567))\n",
    "\n",
    "print(is_symmetrical(44444444))\n",
    "\n",
    "print(is_symmetrical(9939))\n",
    "\n",
    "print(is_symmetrical(1112111))\n"
   ]
  },
  {
   "cell_type": "code",
   "execution_count": null,
   "metadata": {},
   "outputs": [],
   "source": [
    "# 2. Given a string of numbers separated by a comma and space, return the product of the numbers.\n",
    "\n",
    "def multiply_nums(nums):\n",
    "    multiply=1\n",
    "    numl=nums.split(\", \")\n",
    "    for num in numl :\n",
    "        multiply*=int(num)\n",
    "    return multiply\n",
    "\n",
    "\n",
    "print(multiply_nums(\"2, 3\")) \n",
    "print(multiply_nums(\"1, 2, 3, 4\"))\n",
    "\n",
    "print(multiply_nums(\"54, 75, 453, 0\"))\n",
    "\n",
    "print(multiply_nums(\"10, -2\")) \n",
    "\n"
   ]
  },
  {
   "cell_type": "code",
   "execution_count": null,
   "metadata": {},
   "outputs": [],
   "source": [
    "# 3. Create a function that squares every digit of a number.\n",
    "\n",
    "\n",
    "def square_digits(num):\n",
    "    z = ''.join(str(int(i)**2) for i in str(num))\n",
    "    return int(z)\n",
    "    \n",
    "print(square_digits(9119))\n",
    "print(square_digits(2483))\n",
    "\n",
    "print(square_digits(3212))\n",
    "\n"
   ]
  },
  {
   "cell_type": "code",
   "execution_count": null,
   "metadata": {},
   "outputs": [],
   "source": [
    "# 4.Create a function that sorts a list and removes all duplicate items from it.\n",
    "def setify(nums):\n",
    "    lst=[]\n",
    "    for num in nums:\n",
    "        if num not in lst:\n",
    "            lst.append(num)\n",
    "    return lst\n",
    "\n",
    "print(setify([1, 3, 3, 5, 5]))\n",
    "print(setify([4, 4, 4, 4]))\n",
    "\n",
    "print(setify([5, 7, 8, 9, 10, 15]))\n",
    "\n",
    "print(setify([3, 3, 3, 2, 1]))\n",
    "\n"
   ]
  },
  {
   "cell_type": "code",
   "execution_count": null,
   "metadata": {},
   "outputs": [],
   "source": [
    "# 5.Create a function that returns the mean of all digits.\n",
    "\n",
    "def mean(n):\n",
    "    sum = 0\n",
    "    s=len(str(n))\n",
    "    for i in str(n):\n",
    "        sum = sum + int(i)\n",
    " \n",
    "    return (sum/s)\n",
    "            \n",
    "    \n",
    "print(mean(42))\n",
    "print(mean(12345))\n",
    "\n",
    "print(mean(666))\n",
    "\n"
   ]
  },
  {
   "cell_type": "code",
   "execution_count": null,
   "metadata": {},
   "outputs": [],
   "source": []
  }
 ],
 "metadata": {
  "kernelspec": {
   "display_name": "Python 3",
   "language": "python",
   "name": "python3"
  },
  "language_info": {
   "codemirror_mode": {
    "name": "ipython",
    "version": 3
   },
   "file_extension": ".py",
   "mimetype": "text/x-python",
   "name": "python",
   "nbconvert_exporter": "python",
   "pygments_lexer": "ipython3",
   "version": "3.7.4"
  }
 },
 "nbformat": 4,
 "nbformat_minor": 2
}
