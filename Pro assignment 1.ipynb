{
 "cells": [
  {
   "cell_type": "code",
   "execution_count": 1,
   "metadata": {},
   "outputs": [
    {
     "name": "stdout",
     "output_type": "stream",
     "text": [
      "Hello Python\n"
     ]
    }
   ],
   "source": [
    "# write a program to print \"hello Python\"?\n",
    "print(\"Hello Python\")"
   ]
  },
  {
   "cell_type": "code",
   "execution_count": 2,
   "metadata": {},
   "outputs": [
    {
     "name": "stdout",
     "output_type": "stream",
     "text": [
      "addition of 10 and 5 is 15\n",
      "\n",
      "division of 10 and 5 is 2.0\n"
     ]
    }
   ],
   "source": [
    "\n",
    "# 2.\tWrite a Python program to do arithmetical operations addition and division.?\n",
    "\n",
    "a=10\n",
    "b=5\n",
    "print(f\"addition of {a} and {b} is\",a+b)\n",
    "print()\n",
    "print(f\"division of {a} and {b} is\",a/b)"
   ]
  },
  {
   "cell_type": "code",
   "execution_count": 3,
   "metadata": {},
   "outputs": [
    {
     "name": "stdout",
     "output_type": "stream",
     "text": [
      "consider trianlge is a right angled traingle\n",
      "\n",
      "enter Height of triable ;-6\n",
      "enter width of triable :- 4\n",
      "area of triangle is  12.0\n"
     ]
    }
   ],
   "source": [
    "# 3.\tWrite a Python program to find the area of a triangle?\n",
    "\n",
    "print(\"consider trianlge is a right angled traingle\")\n",
    "print()\n",
    "h=int(input(\"enter Height of triable ;-\"))\n",
    "w=int(input(\"enter width of triable :- \"))\n",
    "area=(h*w)/2\n",
    "print(\"area of triangle is \",area)"
   ]
  },
  {
   "cell_type": "code",
   "execution_count": 4,
   "metadata": {},
   "outputs": [
    {
     "name": "stdout",
     "output_type": "stream",
     "text": [
      "enter value of x ;-5\n",
      "enter value of y ;-8\n",
      "after swapping value of x is  8\n",
      "after swapping value of y is  5\n"
     ]
    }
   ],
   "source": [
    "# 4.\tWrite a Python program to swap two variables?\n",
    "\n",
    "x=int(input(\"enter value of x ;-\"))\n",
    "y=int(input(\"enter value of y ;-\"))\n",
    "temp=x\n",
    "x=y\n",
    "y=temp\n",
    "\n",
    "\n",
    "print(\"after swapping value of x is \",x)\n",
    "print(\"after swapping value of y is \",y)\n",
    "\n"
   ]
  },
  {
   "cell_type": "code",
   "execution_count": 5,
   "metadata": {},
   "outputs": [
    {
     "name": "stdout",
     "output_type": "stream",
     "text": [
      "2\n"
     ]
    }
   ],
   "source": [
    "# 5.\tWrite a Python program to generate a random number?\n",
    "\n",
    "import random\n",
    "print(random.randint(0,10))"
   ]
  },
  {
   "cell_type": "code",
   "execution_count": null,
   "metadata": {},
   "outputs": [],
   "source": []
  },
  {
   "cell_type": "code",
   "execution_count": null,
   "metadata": {},
   "outputs": [],
   "source": []
  }
 ],
 "metadata": {
  "kernelspec": {
   "display_name": "Python 3",
   "language": "python",
   "name": "python3"
  },
  "language_info": {
   "codemirror_mode": {
    "name": "ipython",
    "version": 3
   },
   "file_extension": ".py",
   "mimetype": "text/x-python",
   "name": "python",
   "nbconvert_exporter": "python",
   "pygments_lexer": "ipython3",
   "version": "3.7.4"
  }
 },
 "nbformat": 4,
 "nbformat_minor": 2
}
