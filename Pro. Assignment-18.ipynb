{
 "cells": [
  {
   "cell_type": "code",
   "execution_count": 1,
   "metadata": {},
   "outputs": [
    {
     "data": {
      "text/plain": [
       "[1, 2]"
      ]
     },
     "execution_count": 1,
     "metadata": {},
     "output_type": "execute_result"
    }
   ],
   "source": [
    "# 1. Create a function that takes a list of non-negative integers and strings and return a new list without the strings.\n",
    "\n",
    "def filter_list(lst):\n",
    "    inte=[]\n",
    "    for char in lst:\n",
    "        if type(char)==int:\n",
    "            inte.append(char)\n",
    "            \n",
    "    return inte\n",
    "\n",
    "filter_list([1, 2, \"a\", \"b\"])"
   ]
  },
  {
   "cell_type": "code",
   "execution_count": 2,
   "metadata": {},
   "outputs": [
    {
     "data": {
      "text/plain": [
       "'DLROw OLLEh'"
      ]
     },
     "execution_count": 2,
     "metadata": {},
     "output_type": "execute_result"
    }
   ],
   "source": [
    "# 2.The \"Reverser\" takes a string as input and returns that string in reverse order, with the opposite case.\n",
    "\n",
    "def reverse(string):\n",
    "    a= \"\".join(reversed(string.swapcase()))\n",
    "    return a\n",
    "\n",
    "reverse(\"Hello World\") \n"
   ]
  },
  {
   "cell_type": "code",
   "execution_count": 3,
   "metadata": {},
   "outputs": [
    {
     "name": "stdout",
     "output_type": "stream",
     "text": [
      "first   :- 1\n",
      "middle :- [2, 3, 4, 5]\n",
      "last    :- 6\n"
     ]
    }
   ],
   "source": [
    "# 3.You can assign variables from lists like this:\n",
    "# lst = [1, 2, 3, 4, 5, 6]\n",
    "# first = lst[0]\n",
    "# middle = lst[1:-1]\n",
    "# last = lst[-1]\n",
    "\n",
    "# print(first) ➞ outputs 1\n",
    "# print(middle) ➞ outputs [2, 3, 4, 5]\n",
    "# print(last) ➞ outputs 6\n",
    "# With Python 3, you can assign variables from lists in a much more succinct way. Create variables first, middle and last from the given list using destructuring assignment (check the Resources tab for some examples), where:\n",
    "# first  ➞ 1\n",
    "\n",
    "# middle ➞ [2, 3, 4, 5]\n",
    "\n",
    "# last ➞ 6\n",
    "\n",
    "\n",
    "lst=[1,2,3,4,5,6]\n",
    "first , *middle, last = lst\n",
    "print(\"first   :-\",first)\n",
    "print(\"middle :-\", middle)\n",
    "print(\"last    :-\", last)\n"
   ]
  },
  {
   "cell_type": "code",
   "execution_count": 4,
   "metadata": {},
   "outputs": [
    {
     "name": "stdout",
     "output_type": "stream",
     "text": [
      "120\n",
      "6\n"
     ]
    }
   ],
   "source": [
    "# 4.Write a function that calculates the factorial of a number recursively.\n",
    "\n",
    "def fact(n):\n",
    "    if n==0:\n",
    "        result=1\n",
    "    else:\n",
    "        result= (n * fact(n-1))\n",
    "    return result\n",
    "\n",
    "\n",
    "print(fact(5))\n",
    "print(fact(3))\n"
   ]
  },
  {
   "cell_type": "code",
   "execution_count": 5,
   "metadata": {},
   "outputs": [
    {
     "data": {
      "text/plain": [
       "[7, 8, 1, 2, 3, 4, 9]"
      ]
     },
     "execution_count": 5,
     "metadata": {},
     "output_type": "execute_result"
    }
   ],
   "source": [
    "# 5. Write a function that moves all elements of one type to the end of the list.\n",
    "\n",
    "def move_to_end(lst,char):\n",
    "    if char in lst:\n",
    "        a=lst.remove(char)\n",
    "        lst.append(char)\n",
    "    return lst\n",
    "\n",
    "\n",
    "move_to_end([7, 8, 9, 1, 2, 3, 4], 9)"
   ]
  },
  {
   "cell_type": "code",
   "execution_count": null,
   "metadata": {},
   "outputs": [],
   "source": []
  }
 ],
 "metadata": {
  "kernelspec": {
   "display_name": "Python 3",
   "language": "python",
   "name": "python3"
  },
  "language_info": {
   "codemirror_mode": {
    "name": "ipython",
    "version": 3
   },
   "file_extension": ".py",
   "mimetype": "text/x-python",
   "name": "python",
   "nbconvert_exporter": "python",
   "pygments_lexer": "ipython3",
   "version": "3.7.4"
  }
 },
 "nbformat": 4,
 "nbformat_minor": 2
}
