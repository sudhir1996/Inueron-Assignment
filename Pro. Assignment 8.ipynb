{
 "cells": [
  {
   "cell_type": "code",
   "execution_count": 1,
   "metadata": {},
   "outputs": [],
   "source": [
    "import numpy as np"
   ]
  },
  {
   "cell_type": "code",
   "execution_count": 2,
   "metadata": {},
   "outputs": [
    {
     "name": "stdout",
     "output_type": "stream",
     "text": [
      "Matrix a is\n",
      "[[1 2]\n",
      " [3 4]]\n",
      "Matrix b is\n",
      "[[10 20]\n",
      " [30 40]]\n"
     ]
    }
   ],
   "source": [
    "\n",
    "a=np.matrix(\"1,2 ; 3 4\")\n",
    "b=np.matrix([[10,20],[30,40]])\n",
    "print(\"Matrix a is\")\n",
    "print(a)\n",
    "print(\"Matrix b is\")\n",
    "print(b)\n"
   ]
  },
  {
   "cell_type": "code",
   "execution_count": 3,
   "metadata": {},
   "outputs": [
    {
     "name": "stdout",
     "output_type": "stream",
     "text": [
      "Addition of  a and b  matrices is :-\n",
      "[[11 22]\n",
      " [33 44]]\n"
     ]
    }
   ],
   "source": [
    "# 1.\tWrite a Python Program to Add Two Matrices?\n",
    "\n",
    "print(\"Addition of  a and b  matrices is :-\")\n",
    "print(a+b)"
   ]
  },
  {
   "cell_type": "code",
   "execution_count": 4,
   "metadata": {},
   "outputs": [
    {
     "name": "stdout",
     "output_type": "stream",
     "text": [
      "Multiplicaton  of  a and b  matrices is :-\n",
      "[[ 70 100]\n",
      " [150 220]]\n"
     ]
    }
   ],
   "source": [
    "# 2.\tWrite a Python Program to Multiply Two Matrices?\n",
    "\n",
    "print(\"Multiplicaton  of  a and b  matrices is :-\")\n",
    "print(a*b)"
   ]
  },
  {
   "cell_type": "code",
   "execution_count": 5,
   "metadata": {},
   "outputs": [
    {
     "name": "stdout",
     "output_type": "stream",
     "text": [
      "Transpose of matrix a is\n",
      "[[1 3]\n",
      " [2 4]]\n"
     ]
    }
   ],
   "source": [
    "# 3.\tWrite a Python Program to Transpose a Matrix?\n",
    "\n",
    "print(f\"Transpose of matrix a is\")\n",
    "print(a.T)\n"
   ]
  },
  {
   "cell_type": "code",
   "execution_count": 6,
   "metadata": {},
   "outputs": [
    {
     "name": "stdout",
     "output_type": "stream",
     "text": [
      "['sagar', 'samar', 'sanjana', 'sham', 'shruti', 'sudhir']\n"
     ]
    }
   ],
   "source": [
    "# 4.\tWrite a Python Program to Sort Words in Alphabetic Order?\n",
    "\n",
    "words=[\"sagar\",\"sudhir\",'samar','shruti','sanjana','sham']\n",
    "print(sorted(words))"
   ]
  },
  {
   "cell_type": "code",
   "execution_count": 8,
   "metadata": {},
   "outputs": [
    {
     "name": "stdout",
     "output_type": "stream",
     "text": [
      "my string with punctuation marks is as:- hello !!! , he asked for tea ---- and went out.\n",
      "\n",
      "my_string withount punctuation marks is as:- hello   he asked for tea  and went out\n"
     ]
    }
   ],
   "source": [
    "# 5.\tWrite a Python Program to Remove Punctuation From a String?\n",
    "\n",
    "punct='''!()-[]{};:'\"\\,<>./?@#$%^&*_'''\n",
    "my_str=\"hello !!! , he asked for tea ---- and went out.\"\n",
    "no_punct=''\n",
    "for char in my_str:\n",
    "    if char not in punct:\n",
    "        no_punct+= char\n",
    "print(\"my string with punctuation marks is as:-\",my_str)\n",
    "print()\n",
    "        \n",
    "print(\"my_string withount punctuation marks is as:-\",no_punct)\n"
   ]
  },
  {
   "cell_type": "code",
   "execution_count": null,
   "metadata": {},
   "outputs": [],
   "source": []
  }
 ],
 "metadata": {
  "kernelspec": {
   "display_name": "Python 3",
   "language": "python",
   "name": "python3"
  },
  "language_info": {
   "codemirror_mode": {
    "name": "ipython",
    "version": 3
   },
   "file_extension": ".py",
   "mimetype": "text/x-python",
   "name": "python",
   "nbconvert_exporter": "python",
   "pygments_lexer": "ipython3",
   "version": "3.7.4"
  }
 },
 "nbformat": 4,
 "nbformat_minor": 2
}
