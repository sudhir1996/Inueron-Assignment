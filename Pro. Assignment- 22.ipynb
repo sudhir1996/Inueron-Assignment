{
 "cells": [
  {
   "cell_type": "code",
   "execution_count": 1,
   "metadata": {},
   "outputs": [
    {
     "name": "stdout",
     "output_type": "stream",
     "text": [
      "[3, 6, 9]\n",
      "[8]\n",
      "[]\n"
     ]
    }
   ],
   "source": [
    "# 1. Create a function that takes three parameters where:\n",
    "# •\tx is the start of the range (inclusive).\n",
    "# •\ty is the end of the range (inclusive).\n",
    "# •\tn is the divisor to be checked against.\n",
    "# Return an ordered list with numbers in the range that are divisible by the third parameter n. Return an empty list if there are no numbers that are divisible by n.\n",
    "\n",
    "def list_operation(a,b,c):\n",
    "    lst=[]\n",
    "    for i in range(a,b+1):\n",
    "        if i%c==0:\n",
    "            lst.append(i)\n",
    "    return lst\n",
    "\n",
    "\n",
    "print(list_operation(1, 10, 3))\n",
    "\n",
    "print(list_operation(7, 9, 2))\n",
    "\n",
    "print(list_operation(15, 20, 7))\n",
    "\n",
    "\n"
   ]
  },
  {
   "cell_type": "code",
   "execution_count": 2,
   "metadata": {},
   "outputs": [
    {
     "name": "stdout",
     "output_type": "stream",
     "text": [
      "True\n",
      "None\n",
      "True\n",
      "True\n"
     ]
    }
   ],
   "source": [
    "2.\n",
    "\n",
    "\n",
    "\n",
    "\n",
    "\n",
    "def simon_says(list1, list2):\n",
    "     result = False\n",
    "     for x in list1:\n",
    "         for y in list2:\n",
    "             if x == y:\n",
    "                 result = True\n",
    "                 return result\n",
    "            \n",
    "print(simon_says([1, 2], [5, 1]))\n",
    "print(simon_says([1, 2], [5, 5]))\n",
    "\n",
    "print(simon_says([1, 2, 3, 4, 5], [0, 1, 2, 3, 4]))\n",
    "\n",
    "print(simon_says([1, 2, 3, 4, 5], [5, 5, 1, 2, 3])) \n"
   ]
  },
  {
   "cell_type": "code",
   "execution_count": 3,
   "metadata": {},
   "outputs": [
    {
     "name": "stdout",
     "output_type": "stream",
     "text": [
      "AMS\n",
      "CHLN\n",
      "CJMPRR\n"
     ]
    }
   ],
   "source": [
    "# 3. A group of friends have decided to start a secret society. The name will be the first letter of each of their names, sorted in alphabetical order.\n",
    "# Create a function that takes in a list of names and returns the name of the secret society.\n",
    "\n",
    "\n",
    "def society_name(names):\n",
    "    lst=[]\n",
    "    for name in names:\n",
    "        lst.append(name[0])\n",
    "    return \"\".join(sorted(lst))\n",
    "        \n",
    "        \n",
    "print(society_name([\"Adam\", \"Sarah\", \"Malcolm\"]))\n",
    "\n",
    "print(society_name([\"Harry\", \"Newt\", \"Luna\", \"Cho\"]))\n",
    "\n",
    "print(society_name([\"Phoebe\", \"Chandler\", \"Rachel\", \"Ross\", \"Monica\", \"Joey\"]))\n"
   ]
  },
  {
   "cell_type": "code",
   "execution_count": 4,
   "metadata": {},
   "outputs": [
    {
     "name": "stdout",
     "output_type": "stream",
     "text": [
      "True\n",
      "False\n",
      "False\n"
     ]
    }
   ],
   "source": [
    "# 4. An isogram is a word that has no duplicate letters. Create a function that takes a string and returns either True or False depending on whether or not it's an \"isogram\".\n",
    "\n",
    "def is_isogram(word):\n",
    "    clean_word = word.lower()\n",
    "    letter_list = []\n",
    "  \n",
    "    for letter in clean_word:\n",
    "        if letter.isalpha():\n",
    "            if letter in letter_list:\n",
    "                return False\n",
    "            letter_list.append(letter)\n",
    "  \n",
    "    return True\n",
    "        \n",
    "        \n",
    "print(is_isogram(\"Algorism\"))\n",
    "print(is_isogram(\"PasSword\"))\n",
    "print(is_isogram(\"Consecutive\"))\n",
    "            "
   ]
  },
  {
   "cell_type": "code",
   "execution_count": 5,
   "metadata": {},
   "outputs": [
    {
     "name": "stdout",
     "output_type": "stream",
     "text": [
      "True\n",
      "False\n",
      "True\n",
      "True\n"
     ]
    }
   ],
   "source": [
    "# 5. Create a function that takes a string and returns True or False, depending on whether the characters are in order or not.\n",
    "\n",
    "def is_in_order(string):\n",
    "    return string == ''.join(sorted(string))\n",
    "\n",
    "print(is_in_order(\"abc\"))\n",
    "print(is_in_order(\"edabit\"))\n",
    "\n",
    "print(is_in_order(\"123\"))\n",
    "\n",
    "print(is_in_order(\"xyzz\"))\n",
    "\n"
   ]
  },
  {
   "cell_type": "code",
   "execution_count": null,
   "metadata": {},
   "outputs": [],
   "source": []
  }
 ],
 "metadata": {
  "kernelspec": {
   "display_name": "Python 3",
   "language": "python",
   "name": "python3"
  },
  "language_info": {
   "codemirror_mode": {
    "name": "ipython",
    "version": 3
   },
   "file_extension": ".py",
   "mimetype": "text/x-python",
   "name": "python",
   "nbconvert_exporter": "python",
   "pygments_lexer": "ipython3",
   "version": "3.7.4"
  }
 },
 "nbformat": 4,
 "nbformat_minor": 2
}
