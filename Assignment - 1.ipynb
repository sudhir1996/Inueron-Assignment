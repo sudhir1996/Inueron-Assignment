{
 "cells": [
  {
   "cell_type": "code",
   "execution_count": null,
   "metadata": {},
   "outputs": [],
   "source": [
    "# Q1. What is the purpose of Python's OOP?\n",
    "\n",
    "# The main concept of OOPs is to bind the data and the functions that work on that together as a single unit so that no other part of the code can access this data"
   ]
  },
  {
   "cell_type": "code",
   "execution_count": null,
   "metadata": {},
   "outputs": [],
   "source": [
    "# Q2. Where does an inheritance search look for an attribute?\n",
    "\n",
    "#  inheritance search is simply a search of the tree from bottom to top looking for the lowest occurrence of an attribute name."
   ]
  },
  {
   "cell_type": "code",
   "execution_count": null,
   "metadata": {},
   "outputs": [],
   "source": [
    "# Q3. How do you distinguish between a class object and an instance object?\n",
    "\n"
   ]
  },
  {
   "cell_type": "code",
   "execution_count": null,
   "metadata": {},
   "outputs": [],
   "source": [
    "# Q4. What makes the first argument in a class’s method function special?\n",
    "\n",
    "# The first argument of every class method, including init, is always a reference to the current instance of the class. \n",
    "# By convention, this argument is always named self. In the init method, self refers to the newly created object; \n",
    "# in other class methods, it refers to the instance whose method was called\n"
   ]
  },
  {
   "cell_type": "code",
   "execution_count": null,
   "metadata": {},
   "outputs": [],
   "source": [
    "# Q5. What is the purpose of the __init__ method?\n",
    "\n",
    "# __init__ is a reseved method in python classes. It is called as a constructor in object oriented terminology. This method is called when an object is created from a class and it allows the class to initialize the attributes of the class"
   ]
  },
  {
   "cell_type": "code",
   "execution_count": null,
   "metadata": {},
   "outputs": [],
   "source": [
    "# Q6. What is the process for creating a class instance?\n",
    "\n",
    "# To create instances of a class, you call the class using class name and pass in whatever arguments its __init__ method accepts\n"
   ]
  },
  {
   "cell_type": "code",
   "execution_count": null,
   "metadata": {},
   "outputs": [],
   "source": [
    "# Q7. What is the process for creating a class?\n",
    "\n",
    "# Create a Class. To create a class, use the keyword class : ...\n",
    "# Create Object. Now we can use the class named MyClass to create objects: ...\n",
    "# The self Parameter. ..."
   ]
  },
  {
   "cell_type": "code",
   "execution_count": null,
   "metadata": {},
   "outputs": [],
   "source": [
    "# Q8. How would you define the superclasses of a class?\n",
    "\n",
    "if A is superclass and B is subclass then to define that A is superclass of A\n",
    "\n",
    "class A:\n",
    "    def __init__(self):\n",
    "        pass\n",
    "    \n",
    "class B(A):\n",
    "    def __init__(self):\n",
    "        pass"
   ]
  },
  {
   "cell_type": "code",
   "execution_count": null,
   "metadata": {},
   "outputs": [],
   "source": []
  }
 ],
 "metadata": {
  "kernelspec": {
   "display_name": "Python 3",
   "language": "python",
   "name": "python3"
  },
  "language_info": {
   "codemirror_mode": {
    "name": "ipython",
    "version": 3
   },
   "file_extension": ".py",
   "mimetype": "text/x-python",
   "name": "python",
   "nbconvert_exporter": "python",
   "pygments_lexer": "ipython3",
   "version": "3.7.4"
  }
 },
 "nbformat": 4,
 "nbformat_minor": 2
}
