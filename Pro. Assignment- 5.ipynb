{
 "cells": [
  {
   "cell_type": "code",
   "execution_count": 1,
   "metadata": {},
   "outputs": [
    {
     "name": "stdout",
     "output_type": "stream",
     "text": [
      "The L.C.M. is 216\n"
     ]
    }
   ],
   "source": [
    "# 1. Write a Python Program to Find LCM?\n",
    "\n",
    "def gcd(x, y):\n",
    "\n",
    "   while(y):\n",
    "       x, y = y, x % y\n",
    "   return x\n",
    "\n",
    "\n",
    "def lcm(x, y):\n",
    "   lcm = (x*y)//gcd(x,y)\n",
    "   return lcm\n",
    "\n",
    "num1 = 54\n",
    "num2 = 24 \n",
    "\n",
    "print(\"The L.C.M. is\",lcm(num1, num2))\n"
   ]
  },
  {
   "cell_type": "code",
   "execution_count": 2,
   "metadata": {},
   "outputs": [
    {
     "name": "stdout",
     "output_type": "stream",
     "text": [
      "The HCF is 100\n"
     ]
    }
   ],
   "source": [
    "# 2. Write a Python Program to Find HCF?\n",
    "\n",
    "\n",
    "def hcf(x, y):\n",
    "   while(y):\n",
    "       x, y = y, x % y\n",
    "   return x\n",
    "\n",
    "hcf = hcf(300, 400)\n",
    "\n",
    "print(\"The HCF is\", hcf)"
   ]
  },
  {
   "cell_type": "code",
   "execution_count": 3,
   "metadata": {},
   "outputs": [
    {
     "name": "stdout",
     "output_type": "stream",
     "text": [
      "Enter an integer: 12\n",
      "The decimal value of 12 is:\n",
      "0b1100 in binary.\n",
      "0o14 in octal.\n",
      "0xc in hexadecimal.\n"
     ]
    }
   ],
   "source": [
    "# 3. Write a Python Program to Convert Decimal to Binary, Octal and Hexadecimal?\n",
    "\n",
    "\n",
    "deci = int(input(\"Enter an integer: \"))\n",
    "print(\"The decimal value of\",deci,\"is:\")\n",
    "print(bin(deci),\"in binary.\")\n",
    "print(oct(deci),\"in octal.\")\n",
    "print(hex(deci),\"in hexadecimal.\")"
   ]
  },
  {
   "cell_type": "code",
   "execution_count": 5,
   "metadata": {},
   "outputs": [
    {
     "name": "stdout",
     "output_type": "stream",
     "text": [
      "Enter an alphabet: a\n",
      "The ASCII value of 'a' is 97\n"
     ]
    }
   ],
   "source": [
    "# 4. Write a Python Program To Find ASCII value of a character?\n",
    "\n",
    "c = input(\"Enter an alphabet: \")\n",
    "print(\"The ASCII value of '\" + c + \"' is\", ord(c))"
   ]
  },
  {
   "cell_type": "code",
   "execution_count": 6,
   "metadata": {},
   "outputs": [
    {
     "name": "stdout",
     "output_type": "stream",
     "text": [
      "Select operation.\n",
      "1.Add\n",
      "2.Subtract\n",
      "3.Multiply\n",
      "4.Divide\n",
      "Enter choice(1/2/3/4): 1\n",
      "Enter first number: 12\n",
      "Enter second number: 2\n",
      "12.0 + 2.0 = 14.0\n"
     ]
    }
   ],
   "source": [
    "# 5.Write a Python Program to Make a Simple Calculator with 4 basic mathematical operations?\n",
    "\n",
    "def add(x, y):\n",
    "    return x + y\n",
    "def subtract(x, y):\n",
    "    return x - y\n",
    "def multiply(x, y):\n",
    "    return x * y\n",
    "def divide(x, y):\n",
    "    return x / y\n",
    "\n",
    "\n",
    "print(\"Select operation.\")\n",
    "print(\"1.Add\")\n",
    "print(\"2.Subtract\")\n",
    "print(\"3.Multiply\")\n",
    "print(\"4.Divide\")\n",
    "\n",
    "while True:\n",
    "    choice = input(\"Enter choice(1/2/3/4): \")\n",
    "    \n",
    "    if choice in ('1', '2', '3', '4'):\n",
    "        num1 = float(input(\"Enter first number: \"))\n",
    "        num2 = float(input(\"Enter second number: \"))\n",
    "\n",
    "        if choice == '1':\n",
    "            print(num1, \"+\", num2, \"=\", add(num1, num2))\n",
    "\n",
    "        elif choice == '2':\n",
    "            print(num1, \"-\", num2, \"=\", subtract(num1, num2))\n",
    "\n",
    "        elif choice == '3':\n",
    "            print(num1, \"*\", num2, \"=\", multiply(num1, num2))\n",
    "\n",
    "        elif choice == '4':\n",
    "            print(num1, \"/\", num2, \"=\", divide(num1, num2))\n",
    "        break\n",
    "    else:\n",
    "        print(\"Invalid Input\")\n"
   ]
  },
  {
   "cell_type": "code",
   "execution_count": null,
   "metadata": {},
   "outputs": [],
   "source": []
  }
 ],
 "metadata": {
  "kernelspec": {
   "display_name": "Python 3",
   "language": "python",
   "name": "python3"
  },
  "language_info": {
   "codemirror_mode": {
    "name": "ipython",
    "version": 3
   },
   "file_extension": ".py",
   "mimetype": "text/x-python",
   "name": "python",
   "nbconvert_exporter": "python",
   "pygments_lexer": "ipython3",
   "version": "3.7.4"
  }
 },
 "nbformat": 4,
 "nbformat_minor": 2
}
