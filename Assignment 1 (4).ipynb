{
 "cells": [
  {
   "cell_type": "code",
   "execution_count": null,
   "metadata": {},
   "outputs": [],
   "source": [
    "# 1. What are the differences between operators and values in the following?"
   ]
  },
  {
   "cell_type": "code",
   "execution_count": null,
   "metadata": {},
   "outputs": [],
   "source": [
    "#  Operator- is something that perform opearion over two or more value.\n",
    "\n",
    "#  Value- a value may be character or a number."
   ]
  },
  {
   "cell_type": "markdown",
   "metadata": {},
   "source": [
    "   * - Arithmetic operator\n",
    "     multiply two operands\n",
    "\n",
    "  \"hello\" - value\n",
    "        string \n",
    "\n",
    "   -87.8 - value\n",
    "        floating value\n",
    "\n",
    "   - - Arithmetic opeator\n",
    "    subtract two operands\n",
    "\n",
    "  / - Arithmetic operator\n",
    "    divide left opearnd by right operand and return into float\n",
    "    \n",
    "  + - Arithmetic operator\n",
    "     add two operand\n",
    "     \n",
    "  6 - value \n",
    "      integer value"
   ]
  },
  {
   "cell_type": "code",
   "execution_count": null,
   "metadata": {},
   "outputs": [],
   "source": [
    "# 2. What is the difference between string and variable?\n",
    "\n",
    "# string- string is a data type for a sequence of characters.\n",
    "\n",
    "# variable- variable is the memory location where data is stored.\n",
    "\n",
    "# spam - varible\n",
    "\n",
    "# 'spam' - string"
   ]
  },
  {
   "cell_type": "code",
   "execution_count": null,
   "metadata": {},
   "outputs": [],
   "source": [
    "# 3. Describe three different data forms.\n",
    "\n",
    "# --> Numeric,categorical,time-series are three forms of data."
   ]
  },
  {
   "cell_type": "code",
   "execution_count": null,
   "metadata": {},
   "outputs": [],
   "source": [
    "# 4. What makes up an expression? What are the functions of all expressions?\n",
    "\n",
    "# -----> expression is a combination of variables,operation, and values that yield a result value.\n",
    "\n",
    "# function --> laod the values when interpreter reaches that line of code."
   ]
  },
  {
   "cell_type": "code",
   "execution_count": null,
   "metadata": {},
   "outputs": [],
   "source": [
    "# 5. In this chapter, assignment statements such as spam = 10 were added.\n",
    "#    What's the difference between a declaration and an expression?\n",
    "    \n",
    "#  ----> declaration--saved for later use and will be executed later when it        is called.\n",
    " \n",
    "#  ---> expression- stored in variable.they are called using variable name."
   ]
  },
  {
   "cell_type": "code",
   "execution_count": null,
   "metadata": {},
   "outputs": [],
   "source": [
    "# 6. After running the following code, what does the variable bacon contain?\n",
    "# bacon = 22\n",
    "# bacon + 1\n",
    "\n",
    "# --> we get the value of variable bacon is 22. becouse here we do not assigned \"bacon +1\" in bacon."
   ]
  },
  {
   "cell_type": "code",
   "execution_count": 2,
   "metadata": {},
   "outputs": [
    {
     "name": "stdout",
     "output_type": "stream",
     "text": [
      "22\n"
     ]
    }
   ],
   "source": [
    "bacon = 22\n",
    "bacon + 1\n",
    "print(bacon)"
   ]
  },
  {
   "cell_type": "code",
   "execution_count": null,
   "metadata": {},
   "outputs": [],
   "source": [
    "#  7. What should the values of the following two terms be?\n",
    "\n",
    "# 'spam' + 'spamspam' --> 'spamspamspam'\n",
    "# 'spam' * 3          --> 'spamspamspam'\n",
    "\n",
    "# we are getting same values for both function."
   ]
  },
  {
   "cell_type": "code",
   "execution_count": null,
   "metadata": {},
   "outputs": [],
   "source": [
    "# 8. Why is it that eggs is a true variable name but 100 is not?\n",
    "\n",
    "# -----> as per the the rules and regulation for assigning the name to the\n",
    "#        variable, variable name should be start with any letter (so that\n",
    "#        variable name eggs ia acceptable.) but it should not start with \n",
    "#        number (so 100 is not acceptable.)"
   ]
  },
  {
   "cell_type": "code",
   "execution_count": null,
   "metadata": {},
   "outputs": [],
   "source": [
    "# 9. Which of the following three functions may be used to convert a value\n",
    "#    to an integer,a floating-point number, or a string?\n",
    "    \n",
    "#   ---->\n",
    "# to convert value into int ------ int(value)\n",
    "\n",
    "# to convert value into float------- float(value)\n",
    "\n",
    "# to convert value into string------ str(value)"
   ]
  },
  {
   "cell_type": "code",
   "execution_count": null,
   "metadata": {},
   "outputs": [],
   "source": [
    "# 10. What is the error caused by this expression? What would you do about it?\n",
    "\n",
    "# 'I have eaten ' + 99 + ' burritos.'\n",
    "\n",
    "# -----> \n",
    "# as we run that statement we get message \n",
    "\n",
    "# TypeError: can only concatenate str (not \"int\") to str\n",
    "    \n",
    "#  as we canot concatenate string and int object. we have to covert 99 into str by using str(99). then add three strings\n",
    "\n",
    "#  'I have eaten \\' + str(99)+ \\' burritos.'\n"
   ]
  },
  {
   "cell_type": "code",
   "execution_count": 1,
   "metadata": {},
   "outputs": [
    {
     "data": {
      "text/plain": [
       "'I have eaten 99 burritos.'"
      ]
     },
     "execution_count": 1,
     "metadata": {},
     "output_type": "execute_result"
    }
   ],
   "source": [
    " 'I have eaten ' + str(99)+ ' burritos.'"
   ]
  },
  {
   "cell_type": "code",
   "execution_count": null,
   "metadata": {},
   "outputs": [],
   "source": []
  },
  {
   "cell_type": "code",
   "execution_count": null,
   "metadata": {},
   "outputs": [],
   "source": []
  }
 ],
 "metadata": {
  "kernelspec": {
   "display_name": "Python 3",
   "language": "python",
   "name": "python3"
  },
  "language_info": {
   "codemirror_mode": {
    "name": "ipython",
    "version": 3
   },
   "file_extension": ".py",
   "mimetype": "text/x-python",
   "name": "python",
   "nbconvert_exporter": "python",
   "pygments_lexer": "ipython3",
   "version": "3.7.4"
  }
 },
 "nbformat": 4,
 "nbformat_minor": 2
}
