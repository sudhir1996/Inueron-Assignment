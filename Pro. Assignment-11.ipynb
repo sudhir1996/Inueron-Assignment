{
 "cells": [
  {
   "cell_type": "code",
   "execution_count": 2,
   "metadata": {},
   "outputs": [
    {
     "name": "stdout",
     "output_type": "stream",
     "text": [
      "['name', 'sudhir', 'from', 'latur']\n"
     ]
    }
   ],
   "source": [
    "# 1.\tWrite a Python program to find words which are greater than given length k?\n",
    "\n",
    "def long_words(n, str):\n",
    "    word_len = []\n",
    "    txt = str.split(\" \")\n",
    "    for x in txt:\n",
    "        if len(x) > n:\n",
    "            word_len.append(x)\n",
    "    return word_len\t\n",
    "print(long_words(3, \"My name is sudhir and i am from latur\"))"
   ]
  },
  {
   "cell_type": "code",
   "execution_count": 3,
   "metadata": {},
   "outputs": [
    {
     "name": "stdout",
     "output_type": "stream",
     "text": [
      "Enter the sring:sudhir wakde\n",
      "Enter the index of the character to remove:8\n",
      "Modified string:\n",
      "sudhir wkde\n"
     ]
    }
   ],
   "source": [
    "# 2.\tWrite a Python program for removing i-th character from a string?\n",
    "\n",
    "def remove(string, n):  \n",
    "      first = string[:n]   \n",
    "      last = string[n+1:]  \n",
    "      return first + last\n",
    "string=input(\"Enter the sring:\")\n",
    "n=int(input(\"Enter the index of the character to remove:\"))\n",
    "print(\"Modified string:\")\n",
    "print(remove(string, n))"
   ]
  },
  {
   "cell_type": "code",
   "execution_count": 1,
   "metadata": {},
   "outputs": [
    {
     "name": "stdout",
     "output_type": "stream",
     "text": [
      "Enter first String   : sudhir\n",
      "Enter second String  :  wakde\n",
      "After joing string are :  sudhir wakde\n",
      "Enter first String with space : sudhir wakde\n",
      "['sudhir', 'wakde']\n",
      "Enter second String with (,) : sudhir,wakde\n",
      "['sudhir', 'wakde']\n"
     ]
    }
   ],
   "source": [
    "# 3.\tWrite a Python program to split and join a string?\n",
    "\n",
    "\n",
    "str1=input(\"Enter first String   : \")\n",
    "str2=input(\"Enter second String  : \")\n",
    "str=str1+str2 \n",
    "print(\"After joing string are : \",str)\n",
    "\n",
    "str1=input(\"Enter first String with space : \")\n",
    "print(str1.split())    \n",
    "\n",
    "str2=input(\"Enter second String with (,) : \")\n",
    "print(str2.split(','))"
   ]
  },
  {
   "cell_type": "code",
   "execution_count": 4,
   "metadata": {},
   "outputs": [
    {
     "name": "stdout",
     "output_type": "stream",
     "text": [
      "String is not a binary string\n"
     ]
    }
   ],
   "source": [
    "# 4.\tWrite a Python to check if a given string is binary string or\n",
    "\n",
    "stri = \"01200000001\"\n",
    "b = '10'\n",
    "for char in stri:\n",
    "   if char not in b:\n",
    "      count = 1\n",
    "      break\n",
    "   else:\n",
    "      pass\n",
    "if count:\n",
    "   print(\"String is not a binary string\")\n",
    "else:\n",
    "   print(\"String is a binary string\")\n",
    "\n",
    "\n"
   ]
  },
  {
   "cell_type": "code",
   "execution_count": 5,
   "metadata": {},
   "outputs": [
    {
     "name": "stdout",
     "output_type": "stream",
     "text": [
      "['learning', 'is', 'easy', 'has', 'huge', 'impact', 'in', 'data', 'science.']\n"
     ]
    }
   ],
   "source": [
    "# 5.\tWrite a Python program to find uncommon words from two Strings?\n",
    "\n",
    "def Uncommon_words(A, B):\n",
    "    count = {}\n",
    "    for word in A.split():\n",
    "        count[word] = count.get(word, 0) + 1\n",
    "    for word in B.split():\n",
    "        count[word] = count.get(word, 0) + 1\n",
    "    return [word for word in count if count[word] == 1]\n",
    "A = \"learning python is easy\"\n",
    "B = \"python has huge impact in data science. \"\n",
    "\n",
    "print(Uncommon_words(A, B))"
   ]
  },
  {
   "cell_type": "code",
   "execution_count": 6,
   "metadata": {},
   "outputs": [
    {
     "name": "stdout",
     "output_type": "stream",
     "text": [
      "['l']\n",
      "['p', 'o']\n",
      "[]\n"
     ]
    }
   ],
   "source": [
    "# 6.\tWrite a Python to find all duplicate characters in string?\n",
    "\n",
    "def find_duplicates(s):\n",
    "    elements = {}\n",
    "    for char in s:\n",
    "        if elements.get(char,None) != None:\n",
    "            elements[char]+=1\n",
    "        else:\n",
    "            elements[char] = 1\n",
    "    return [k for k,v in elements.items() if v>1]\n",
    "\n",
    "print(find_duplicates(\"Hello\"))\n",
    "print(find_duplicates(\"Hippopotamus\"))\n",
    "print(find_duplicates(\"Python\"))"
   ]
  },
  {
   "cell_type": "code",
   "execution_count": 7,
   "metadata": {},
   "outputs": [
    {
     "name": "stdout",
     "output_type": "stream",
     "text": [
      "String contains Special Characters.\n"
     ]
    }
   ],
   "source": [
    "# 7.\tWrite a Python Program to check if a string contains any special character?\n",
    "import re\n",
    "def check_splcharacter(test):\n",
    "    string_check= re.compile('[@_!#$%^&*()<>?/\\|}{~:]')\n",
    "    if(string_check.search(test) == None):\n",
    "        print(\"String does not contain Special Characters.\") \n",
    "    else: \n",
    "        print(\"String contains Special Characters.\")\n",
    "        \n",
    "\n",
    "check_splcharacter(\"hi !!! my name@ is $udhir #$\")\n",
    "        \n"
   ]
  },
  {
   "cell_type": "code",
   "execution_count": null,
   "metadata": {},
   "outputs": [],
   "source": []
  }
 ],
 "metadata": {
  "kernelspec": {
   "display_name": "Python 3",
   "language": "python",
   "name": "python3"
  },
  "language_info": {
   "codemirror_mode": {
    "name": "ipython",
    "version": 3
   },
   "file_extension": ".py",
   "mimetype": "text/x-python",
   "name": "python",
   "nbconvert_exporter": "python",
   "pygments_lexer": "ipython3",
   "version": "3.7.4"
  }
 },
 "nbformat": 4,
 "nbformat_minor": 2
}
