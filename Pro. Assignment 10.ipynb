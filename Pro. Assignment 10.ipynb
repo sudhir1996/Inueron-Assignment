{
 "cells": [
  {
   "cell_type": "code",
   "execution_count": 1,
   "metadata": {},
   "outputs": [
    {
     "name": "stdout",
     "output_type": "stream",
     "text": [
      "10\n"
     ]
    }
   ],
   "source": [
    "# 1.\tWrite a Python program to find sum of elements in list?\n",
    "\n",
    "lst=[1,2,3,4]\n",
    "add=0\n",
    "for i in lst:\n",
    "    add+=i\n",
    "print(add)"
   ]
  },
  {
   "cell_type": "code",
   "execution_count": 2,
   "metadata": {},
   "outputs": [
    {
     "name": "stdout",
     "output_type": "stream",
     "text": [
      "24\n"
     ]
    }
   ],
   "source": [
    "# 2.\tWrite a Python program to find multiplication of all numbers in list?\n",
    "\n",
    "lst=[1,2,3,4]\n",
    "multiply=1\n",
    "for i in lst:\n",
    "    multiply*=i\n",
    "print(multiply)"
   ]
  },
  {
   "cell_type": "code",
   "execution_count": 3,
   "metadata": {},
   "outputs": [
    {
     "data": {
      "text/plain": [
       "1"
      ]
     },
     "execution_count": 3,
     "metadata": {},
     "output_type": "execute_result"
    }
   ],
   "source": [
    "# 3.\tWrite a Python program to find smallest number in a list?\n",
    "\n",
    "lst=[1,2,3,4]\n",
    "min(lst)"
   ]
  },
  {
   "cell_type": "code",
   "execution_count": 4,
   "metadata": {},
   "outputs": [
    {
     "data": {
      "text/plain": [
       "4"
      ]
     },
     "execution_count": 4,
     "metadata": {},
     "output_type": "execute_result"
    }
   ],
   "source": [
    "# 4.\tWrite a Python program to find largest number in a list?\n",
    "\n",
    "lst=[1,2,3,4]\n",
    "max(lst)"
   ]
  },
  {
   "cell_type": "code",
   "execution_count": 5,
   "metadata": {},
   "outputs": [
    {
     "name": "stdout",
     "output_type": "stream",
     "text": [
      "First highest number is :- 110\n",
      "second highest number is :- 90\n"
     ]
    }
   ],
   "source": [
    "# 5.\tWrite a Python program to find smallest number in a list\n",
    "\n",
    "lst=[10,20,15,30,40,50 ,60,70,80,90,110]\n",
    "print(\"First highest number is :-\",max(lst))\n",
    "lst.remove(max(lst))\n",
    "print(\"second highest number is :-\",max(lst))"
   ]
  },
  {
   "cell_type": "code",
   "execution_count": 6,
   "metadata": {},
   "outputs": [
    {
     "name": "stdout",
     "output_type": "stream",
     "text": [
      "enter n value to find n larhest element :- 5\n",
      "[80, 70, 60, 50, 40]\n"
     ]
    }
   ],
   "source": [
    "# 6.\tWrite a Python program to find N largest elements from a list?\n",
    "\n",
    "n=int(input(\"enter n value to find n larhest element :- \"))\n",
    "lst=[10,20,30,40,50 ,60,70,80]\n",
    "largest=[]\n",
    "for i in range(n):\n",
    "    largest.append(max(lst))\n",
    "    lst.remove(max(lst))\n",
    "print(largest)\n"
   ]
  },
  {
   "cell_type": "code",
   "execution_count": 7,
   "metadata": {},
   "outputs": [
    {
     "name": "stdout",
     "output_type": "stream",
     "text": [
      "enter a value upto which you want to find out even numbers10\n",
      "List of even numbers upto 10 is [0, 2, 4, 6, 8, 10]\n"
     ]
    }
   ],
   "source": [
    "# 7.\tWrite a Python program to print even numbers in a list?\n",
    "\n",
    "n=int(input(\"enter a value upto which you want to find out even numbers\"))\n",
    "lst=[]\n",
    "for num in range(n+1):\n",
    "    if num%2==0:\n",
    "        lst.append(num)\n",
    "print(f\"List of even numbers upto {n} is {lst}\")\n",
    "    \n",
    "    "
   ]
  },
  {
   "cell_type": "code",
   "execution_count": 8,
   "metadata": {},
   "outputs": [
    {
     "name": "stdout",
     "output_type": "stream",
     "text": [
      "enter a value upto which you want to find out even numbers10\n"
     ]
    },
    {
     "data": {
      "text/plain": [
       "[1, 3, 5, 7, 9]"
      ]
     },
     "execution_count": 8,
     "metadata": {},
     "output_type": "execute_result"
    }
   ],
   "source": [
    "# 8.\tWrite a Python program to print odd numbers in a List?\n",
    "\n",
    "n=int(input(\"enter a value upto which you want to find out even numbers\"))\n",
    "[i for i in range(n)  if i%2!=0]"
   ]
  },
  {
   "cell_type": "code",
   "execution_count": 11,
   "metadata": {},
   "outputs": [
    {
     "name": "stdout",
     "output_type": "stream",
     "text": [
      "[1, 2, 3, 5, 6, [1, 2], 7, 8, 9]\n"
     ]
    }
   ],
   "source": [
    "# 9.\tWrite a Python program to Remove empty List from List?\n",
    "\n",
    "\n",
    "lst=[1,2,3,[],5,6,[1,2],7,8,[],9]\n",
    "for i in lst:\n",
    "    if type(i)==list:\n",
    "        if len(i)==0:\n",
    "            lst.remove(i)\n",
    "print(lst)"
   ]
  },
  {
   "cell_type": "code",
   "execution_count": 9,
   "metadata": {},
   "outputs": [
    {
     "name": "stdout",
     "output_type": "stream",
     "text": [
      "oroginal  list:-  [10, 20, 30, 40, 50, 60, 70, 80, 90]\n",
      "\n",
      "id of original list :- 1809563065288\n",
      "\n",
      "copied list:-  [10, 20, 30, 40, 50, 60, 70, 80, 90]\n",
      "\n",
      "id of copied list :- 1809563065224\n"
     ]
    }
   ],
   "source": [
    "# 10.\tWrite a Python program to Cloning or Copying a list?\n",
    "\n",
    "lst=[10,20,30,40,50,60,70,80,90]\n",
    "lst1=lst.copy()\n",
    "print(\"oroginal  list:- \",lst)\n",
    "print()\n",
    "print(\"id of original list :-\",id(lst))\n",
    "print()\n",
    "print(\"copied list:- \",lst1)\n",
    "print()\n",
    "print(\"id of copied list :-\",id(lst1))\n"
   ]
  },
  {
   "cell_type": "code",
   "execution_count": 10,
   "metadata": {},
   "outputs": [
    {
     "name": "stdout",
     "output_type": "stream",
     "text": [
      "enter a number from list to count its occurance in list :- 10\n"
     ]
    },
    {
     "data": {
      "text/plain": [
       "3"
      ]
     },
     "execution_count": 10,
     "metadata": {},
     "output_type": "execute_result"
    }
   ],
   "source": [
    "# 11.\tWrite a Python program to Count occurrences of an element in a list?\n",
    "\n",
    "\n",
    "num=int(input(\"enter a number from list to count its occurance in list :- \"))\n",
    "lst=[10,20,30,40,50,60,70,80,90,10,20,30,40,50,60,70,80,90,10,20,30,40,50,60,70,80,90]\n",
    "lst.count(num)"
   ]
  },
  {
   "cell_type": "code",
   "execution_count": null,
   "metadata": {},
   "outputs": [],
   "source": []
  }
 ],
 "metadata": {
  "kernelspec": {
   "display_name": "Python 3",
   "language": "python",
   "name": "python3"
  },
  "language_info": {
   "codemirror_mode": {
    "name": "ipython",
    "version": 3
   },
   "file_extension": ".py",
   "mimetype": "text/x-python",
   "name": "python",
   "nbconvert_exporter": "python",
   "pygments_lexer": "ipython3",
   "version": "3.7.4"
  }
 },
 "nbformat": 4,
 "nbformat_minor": 2
}
