{
 "cells": [
  {
   "cell_type": "code",
   "execution_count": 1,
   "metadata": {},
   "outputs": [
    {
     "name": "stdout",
     "output_type": "stream",
     "text": [
      "[6, 7, 8, 9, 1]\n",
      "[6, 3, 23, 17, 10]\n",
      "[10, 20, 42, 6]\n",
      "No list has been selected. \n",
      "[]\n"
     ]
    }
   ],
   "source": [
    "# 1.Write a function that takes a list and a number as arguments. Add the number to the end of the list, then remove the first element of the list. The function should then return the updated list.\n",
    "\n",
    "def next_in_line(lst,num):\n",
    "    l=[]\n",
    "    if len(lst)>=1:\n",
    "        lst.remove(lst[0])\n",
    "        lst.append(num)\n",
    "        \n",
    "    else:\n",
    "        print(\"No list has been selected. \")\n",
    "        \n",
    "    return lst\n",
    "        \n",
    "print(next_in_line([5, 6, 7, 8, 9], 1))\n",
    "\n",
    "print(next_in_line([7, 6, 3, 23, 17], 10))\n",
    "\n",
    "print(next_in_line([1, 10, 20, 42 ], 6))\n",
    "\n",
    "print(next_in_line([], 6))\n"
   ]
  },
  {
   "cell_type": "code",
   "execution_count": 2,
   "metadata": {},
   "outputs": [
    {
     "name": "stdout",
     "output_type": "stream",
     "text": [
      "65700\n",
      "62600\n"
     ]
    }
   ],
   "source": [
    "# 2.Create the function that takes a list of dictionaries and returns the sum of people's budgets.Create the function that takes a list of dictionaries and returns the sum of people's budgets.\n",
    "\n",
    "def get_budgets(lst):\n",
    "    total=0\n",
    "    for dic in lst:\n",
    "        total+=dic[\"budget\"]\n",
    "    return total\n",
    "        \n",
    "print(get_budgets([\n",
    "  { \"name\": \"John\", \"age\": 21, \"budget\": 23000 },\n",
    "  { \"name\": \"Steve\",  \"age\": 32, \"budget\": 40000 },\n",
    "  { \"name\": \"Martin\",  \"age\": 16, \"budget\": 2700 }]))\n",
    "\n",
    "\n",
    "\n",
    "print(get_budgets([\n",
    "  { \"name\": \"John\",  \"age\": 21, \"budget\": 29000 },\n",
    "  { \"name\": \"Steve\",  \"age\": 32, \"budget\": 32000 },\n",
    "  { \"name\": \"Martin\",  \"age\": 16, \"budget\": 1600 }\n",
    "]) \n",
    ")"
   ]
  },
  {
   "cell_type": "code",
   "execution_count": 3,
   "metadata": {},
   "outputs": [
    {
     "name": "stdout",
     "output_type": "stream",
     "text": [
      "ehllo\n",
      "abdeit\n",
      "acehkr\n",
      "eegk\n",
      "aacijprstv\n"
     ]
    }
   ],
   "source": [
    "# 3.Create a function that takes a string and returns a string with its letters in alphabetical order.\n",
    "\n",
    "def alphabet_soup(string):\n",
    "    return ''.join(sorted(string))\n",
    "    \n",
    "    \n",
    "    \n",
    "print(alphabet_soup(\"hello\"))\n",
    "\n",
    "print(alphabet_soup(\"edabit\"))\n",
    "\n",
    "print(alphabet_soup(\"hacker\"))\n",
    "\n",
    "print(alphabet_soup(\"geek\"))\n",
    "\n",
    "print(alphabet_soup(\"javascript\"))\n"
   ]
  },
  {
   "cell_type": "code",
   "execution_count": 4,
   "metadata": {},
   "outputs": [
    {
     "name": "stdout",
     "output_type": "stream",
     "text": [
      "105.0\n",
      "14620.368592954797\n",
      "1636653.7392946088\n",
      "17908.476965428545\n"
     ]
    }
   ],
   "source": [
    "# 4. Suppose that you invest $10,000 for 10 years at an interest rate of 6% compounded monthly. What will be the value of your investment at the end of the 10 year period?\n",
    "# Create a function that accepts the principal p, the term in years t, the interest rate r, and the number of compounding periods per year n. The function returns the value at the end of term rounded to the nearest cent.\n",
    "\n",
    "def compound_interest(p,t,r,n):\n",
    "    ci =  p * (pow((1 + r), t))\n",
    "    return ci\n",
    "\n",
    "print(compound_interest(100, 1, 0.05, 1))\n",
    "\n",
    "print(compound_interest(3500, 15, 0.1, 4))\n",
    "\n",
    "print(compound_interest(100000, 20, 0.15, 365)) \n",
    "\n",
    "print(compound_interest(10000, 10, 0.06, 12))"
   ]
  },
  {
   "cell_type": "code",
   "execution_count": 5,
   "metadata": {},
   "outputs": [
    {
     "name": "stdout",
     "output_type": "stream",
     "text": [
      "[9, 2, 16]\n",
      "[81, 123]\n",
      "[10, 56, 20, 3]\n",
      "[1]\n"
     ]
    }
   ],
   "source": [
    "# 5. Write a function that takes a list of elements and returns only the integers.\n",
    "\n",
    "def integer(lst):\n",
    "    inte=[]\n",
    "    for i in lst:\n",
    "        if type(i)==int:\n",
    "            inte.append(i)\n",
    "    return inte\n",
    "\n",
    "print(integer([9, 2, \"space\", \"car\", \"lion\", 16]))\n",
    "\n",
    "print(integer([\"hello\", 81, \"basketball\", 123, \"fox\"]))\n",
    "\n",
    "print(integer([10, \"121\", 56, 20, \"car\", 3, \"lion\"]))\n",
    "\n",
    "print(integer([\"String\",  True,  3.3,  1]))\n"
   ]
  },
  {
   "cell_type": "code",
   "execution_count": null,
   "metadata": {},
   "outputs": [],
   "source": []
  },
  {
   "cell_type": "code",
   "execution_count": null,
   "metadata": {},
   "outputs": [],
   "source": []
  }
 ],
 "metadata": {
  "kernelspec": {
   "display_name": "Python 3",
   "language": "python",
   "name": "python3"
  },
  "language_info": {
   "codemirror_mode": {
    "name": "ipython",
    "version": 3
   },
   "file_extension": ".py",
   "mimetype": "text/x-python",
   "name": "python",
   "nbconvert_exporter": "python",
   "pygments_lexer": "ipython3",
   "version": "3.7.4"
  }
 },
 "nbformat": 4,
 "nbformat_minor": 2
}
