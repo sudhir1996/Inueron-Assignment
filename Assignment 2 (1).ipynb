{
 "cells": [
  {
   "cell_type": "markdown",
   "metadata": {},
   "source": [
    "1. What are the Boolean data type's two values? How do you go about writing them?\n",
    "\n",
    "---> True and False are the two values. their first letter should be capital only."
   ]
  },
  {
   "cell_type": "markdown",
   "metadata": {},
   "source": [
    "2. What are the three different types of Boolean operators?\n",
    "--->\n",
    "     1. and operator\n",
    "     2. or operator\n",
    "     3. xor operator"
   ]
  },
  {
   "cell_type": "markdown",
   "metadata": {},
   "source": [
    "3. Make a list of each Boolean operator's truth tables (i.e. every possible \n",
    "combination of Boolean values for the operator and what it evaluate ).\n",
    "\n",
    "  A    B    A&b   A|b    A^B\n",
    "----------------------------------------\n",
    "  T    T     T     F      F\n",
    "  T    F     F     T      T\n",
    "  F    T     F     T      T \n",
    "  F    F     F     F      F"
   ]
  },
  {
   "cell_type": "markdown",
   "metadata": {},
   "source": [
    "4. What are the values of the following expressions?\n",
    "\n",
    "(5 > 4) and (3 == 5) ---- False\n",
    "\n",
    "not (5 > 4) ---- False\n",
    "\n",
    "(5 > 4) or (3 == 5)-----True\n",
    "\n",
    "not ((5 > 4) or (3 == 5))------ False\n",
    "\n",
    "(True and True) and (True == False)----False\n",
    "\n",
    "(not False) or (not True)------ True"
   ]
  },
  {
   "cell_type": "markdown",
   "metadata": {},
   "source": [
    "5. What are the six different types of reference operators?\n",
    "    ----> 1. Arithmetic operator\n",
    "          2. relational operator\n",
    "          3. Assignment operaator\n",
    "          4. Logical operator\n",
    "          5. Membership Operator\n",
    "          6.identity operator\n"
   ]
  },
  {
   "cell_type": "markdown",
   "metadata": {},
   "source": [
    "6. How do you tell the difference between the equal to and assignment operators?\n",
    "\n",
    "--->  equal to                                    assignment operator\n",
    " 1. comparison operator               1. assignment operator\n",
    " 2. used to compare to values         2. used for assign value to variable\n",
    " 3. sign is \"==\"                      3.  sign is\"=\""
   ]
  },
  {
   "cell_type": "markdown",
   "metadata": {},
   "source": [
    "7. Describe a condition and, when you would use one.\n",
    "\n",
    "---> and condition is used when it gives True only when both the condition \n",
    " are true.if we want to check both the condition should be satisfied then only it gives an output."
   ]
  },
  {
   "cell_type": "code",
   "execution_count": null,
   "metadata": {},
   "outputs": [],
   "source": [
    "name=input(\"Enter your name :- \")\n",
    "if name[0]==\"s\" or name[0]==\"S\":\n",
    "    print(\"your name is starts with s. \")\n",
    "else:\n",
    "    print(\"your name is not starts with s. \")"
   ]
  },
  {
   "cell_type": "markdown",
   "metadata": {},
   "source": [
    "8. Recognize the following three blocks in this code:"
   ]
  },
  {
   "cell_type": "code",
   "execution_count": null,
   "metadata": {},
   "outputs": [],
   "source": [
    "spam = 0\n",
    "if spam == 10:\n",
    "    print('eggs')\n",
    "if spam > 5:\n",
    "    print('bacon')\n",
    "else:\n",
    "    print('ham')\n",
    "print('spam')\n",
    "print('spam')\n"
   ]
  },
  {
   "cell_type": "markdown",
   "metadata": {},
   "source": [
    "in first block as spam is value is equal to 10 but we have assigned spam \n",
    "as zero. \n",
    "\n",
    "in second block spam is grater than 5, bt as spam is zero so second \n",
    "condition not executed. here also it if block exucuted only ones.\n",
    "\n",
    "in third block as both condition are not true so else block we be executed and print output as 'ham' ans then 'spam ' aslo printed."
   ]
  },
  {
   "cell_type": "markdown",
   "metadata": {},
   "source": [
    "9. Create a programme that prints. If 1 is stored in spam, prints Hello; if 2 is stored in spam, prints Howdy; and if 3 is stored in spam, prints Salutations! if there's something else in spam."
   ]
  },
  {
   "cell_type": "code",
   "execution_count": null,
   "metadata": {},
   "outputs": [],
   "source": [
    "spam=int(input(\"Enter any value :- \"))\n",
    "if spam==1:\n",
    "    print(\"Hello\")\n",
    "elif spam==2:\n",
    "    print(\"Howdy\")\n",
    "elif spam==3:\n",
    "    print(\"Solution !\")\n",
    "else:\n",
    "    print(\"you have entered \",spam)"
   ]
  },
  {
   "cell_type": "markdown",
   "metadata": {},
   "source": [
    "10.If your programme is stuck in an endless loop, what keys can you press?\n",
    "\n",
    "---> ctrl + c  or  \n",
    "by using stop button in jypyter notebook."
   ]
  },
  {
   "cell_type": "markdown",
   "metadata": {},
   "source": [
    "11. How can you tell the difference between break and continue?\n",
    "\n",
    "---> Break  --> program will be terminated after the use of this.\n",
    "continue---program is passed for next iteration skipping the execution of that iteration."
   ]
  },
  {
   "cell_type": "markdown",
   "metadata": {},
   "source": [
    "12. In a for loop, what is the difference between range(10), range(0, 10),\n",
    "and range(0, 10, 1)?\n",
    "---> no major diffrence is available"
   ]
  },
  {
   "cell_type": "markdown",
   "metadata": {},
   "source": [
    "13. Using a for loop, write a short programme that prints the numbers 1 \n",
    " to 10 Then, using a while loop, create an identical programme that \n",
    "prints the numbers 1 to 10.\n",
    "---->\n",
    "\n",
    "for i in range(1,11):\n",
    "    print(i)\n",
    "\n",
    "j=1\n",
    "while j<=10:\n",
    "    print(j)\n",
    "    j+=1"
   ]
  },
  {
   "cell_type": "code",
   "execution_count": null,
   "metadata": {},
   "outputs": [],
   "source": [
    "14. If you had a bacon() function within a spam module, what would you \n",
    "call it after importing spam?\n",
    "---> we have to use sudh syntax \n",
    "      moduleName.functionName()\n",
    "    \n",
    "      import spam\n",
    "      spam.bacon()"
   ]
  }
 ],
 "metadata": {
  "kernelspec": {
   "display_name": "Python 3",
   "language": "python",
   "name": "python3"
  },
  "language_info": {
   "codemirror_mode": {
    "name": "ipython",
    "version": 3
   },
   "file_extension": ".py",
   "mimetype": "text/x-python",
   "name": "python",
   "nbconvert_exporter": "python",
   "pygments_lexer": "ipython3",
   "version": "3.7.4"
  }
 },
 "nbformat": 4,
 "nbformat_minor": 2
}
