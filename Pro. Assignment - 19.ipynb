{
 "cells": [
  {
   "cell_type": "code",
   "execution_count": 1,
   "metadata": {},
   "outputs": [
    {
     "name": "stdout",
     "output_type": "stream",
     "text": [
      "SSttrriinngg\n",
      "hheelllloo  wwoorrlldd!!  \n"
     ]
    }
   ],
   "source": [
    "# 1.  Create a function that takes a string and returns a string in which each character is repeated once.\n",
    "\n",
    "def double_char(str):\n",
    "    return ''.join([c+c for c in str])\n",
    "    \n",
    "print(double_char(\"String\"))\n",
    "    \n",
    "print(double_char(\"hello world! \"))"
   ]
  },
  {
   "cell_type": "code",
   "execution_count": 2,
   "metadata": {},
   "outputs": [
    {
     "name": "stdout",
     "output_type": "stream",
     "text": [
      "False\n",
      "True\n",
      "boolean expected\n",
      "boolean expected\n"
     ]
    }
   ],
   "source": [
    "# 2. Create a function that reverses a boolean value and returns the string \"boolean expected\" if another variable type is given.\n",
    "\n",
    "def reverse(val):   \n",
    "    if val == bool:\n",
    "        return not val\n",
    "    else:\n",
    "        return \"boolean expected\"\n",
    "\n",
    "def reverse(val):\n",
    "    if isinstance(val, bool):\n",
    "        return not val\n",
    "    else:\n",
    "        return('boolean expected')\n",
    "\n",
    "def reverse(arg=None):\n",
    "    return not arg if type(arg) == bool else \"boolean expected\"\n",
    "\n",
    "print(reverse(True)) \n",
    "print(reverse(False))\n",
    "print(reverse(0)) \n",
    "print(reverse(None))\n"
   ]
  },
  {
   "cell_type": "code",
   "execution_count": 3,
   "metadata": {},
   "outputs": [
    {
     "name": "stdout",
     "output_type": "stream",
     "text": [
      "0.001\n",
      "0.008\n",
      "1048.576\n"
     ]
    }
   ],
   "source": [
    "# 3.Create a function that returns the thickness (in meters) of a piece of paper after folding it n number of times. The paper starts off with a thickness of 0.5mm.\n",
    "\n",
    "\n",
    "def num_layers(a):\n",
    "    res = 0.5\n",
    "    for i in range(a):\n",
    "        res *= 2\n",
    "    return res / 1000\n",
    "\n",
    "\n",
    "print(num_layers(1))\n",
    "\n",
    "print(num_layers(4))\n",
    "print(num_layers(21))"
   ]
  },
  {
   "cell_type": "code",
   "execution_count": 4,
   "metadata": {},
   "outputs": [
    {
     "name": "stdout",
     "output_type": "stream",
     "text": [
      "[1, 3, 5]\n",
      "[1, 3, 4, 6]\n",
      "[]\n"
     ]
    }
   ],
   "source": [
    "# 4. Create a function that takes a single string as argument and returns an ordered list containing the indices of all capital letters in the string.\n",
    "\n",
    "def index_of_caps(word):\n",
    "    pos = [idx for idx in range(len(word)) if word[idx].isupper()]\n",
    "    return pos\n",
    "\n",
    "\n",
    "print(index_of_caps(\"eDaBiT\"))\n",
    "print(index_of_caps(\"eQuINoX\")) \n",
    "print(index_of_caps(\"determine\"))\n"
   ]
  },
  {
   "cell_type": "code",
   "execution_count": 5,
   "metadata": {},
   "outputs": [
    {
     "name": "stdout",
     "output_type": "stream",
     "text": [
      "[2, 4, 6, 8]\n",
      "[2, 4]\n",
      "[2]\n"
     ]
    }
   ],
   "source": [
    "# 5. Using list comprehensions, create a function that finds all even numbers from 1 to the given number.\n",
    "\n",
    "def even_no(num):\n",
    "    number=[i for i in range(1,num+1) if i%2==0]\n",
    "    return number\n",
    "\n",
    "print(even_no(8))\n",
    "print(even_no(4))\n",
    "print(even_no(2))\n"
   ]
  },
  {
   "cell_type": "code",
   "execution_count": null,
   "metadata": {},
   "outputs": [],
   "source": []
  }
 ],
 "metadata": {
  "kernelspec": {
   "display_name": "Python 3",
   "language": "python",
   "name": "python3"
  },
  "language_info": {
   "codemirror_mode": {
    "name": "ipython",
    "version": 3
   },
   "file_extension": ".py",
   "mimetype": "text/x-python",
   "name": "python",
   "nbconvert_exporter": "python",
   "pygments_lexer": "ipython3",
   "version": "3.7.4"
  }
 },
 "nbformat": 4,
 "nbformat_minor": 2
}
