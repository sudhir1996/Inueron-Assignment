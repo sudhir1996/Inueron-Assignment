{
 "cells": [
  {
   "cell_type": "code",
   "execution_count": null,
   "metadata": {},
   "outputs": [],
   "source": [
    "# 1. What does an empty dictionary's code look like?\n",
    "\n",
    "# an empty dctionary looks like a set."
   ]
  },
  {
   "cell_type": "code",
   "execution_count": 1,
   "metadata": {},
   "outputs": [
    {
     "name": "stdout",
     "output_type": "stream",
     "text": [
      " Volume in drive C is Windows\n",
      " Volume Serial Number is 74F1-30A8\n",
      "\n",
      " Directory of C:\\Users\\sagar wakade\\Assignment\\B. Assignment\n",
      "\n",
      "12-Dec-21  01:01 PM    <DIR>          .\n",
      "12-Dec-21  01:01 PM    <DIR>          ..\n",
      "12-Dec-21  01:00 PM    <DIR>          .ipynb_checkpoints\n",
      "12-Dec-21  01:01 PM             4,057 Assignment - 5.ipynb\n",
      "16-Mar-21  11:42 PM             6,301 Assignment 1.ipynb\n",
      "17-Mar-21  12:01 AM             8,311 Assignment 2.ipynb\n",
      "18-Mar-21  10:57 PM             9,192 Assignment 4.ipynb\n",
      "10-May-21  10:20 PM             7,776 Assignment- 6.ipynb\n",
      "13-May-21  12:14 PM             3,981 Assignment- 9.ipynb\n",
      "09-May-21  01:47 PM             5,634 Assignment-6.ipynb\n",
      "               7 File(s)         45,252 bytes\n",
      "               3 Dir(s)  674,332,573,696 bytes free\n"
     ]
    }
   ],
   "source": [
    "ls"
   ]
  },
  {
   "cell_type": "code",
   "execution_count": null,
   "metadata": {},
   "outputs": [],
   "source": [
    "# 2. What is the value of a dictionary value with the key 'foo' and the value 42?\n",
    "\n",
    "#  value is 42"
   ]
  },
  {
   "cell_type": "code",
   "execution_count": null,
   "metadata": {},
   "outputs": [],
   "source": [
    "# 3. What is the most significant distinction between a dictionary and a list?\n",
    "\n",
    "# List re created by placing elements in [ ] separated by commas “, “. \n",
    "# Dictionary is created by placing elements in { } as “key”:”value”, each key value pair is separated by commas “, “\n",
    "\n",
    "# The elements are accessed via indices. \n",
    "The elements are accessed via kay & value.\n"
   ]
  },
  {
   "cell_type": "code",
   "execution_count": null,
   "metadata": {},
   "outputs": [],
   "source": [
    "# 4. What happens if you try to access spam['foo'] if spam is {'bar': 100}?\n",
    "\n",
    "# we got KeyError: 'foo'"
   ]
  },
  {
   "cell_type": "code",
   "execution_count": null,
   "metadata": {},
   "outputs": [],
   "source": [
    "# 5. If a dictionary is stored in spam, what is the difference between the expressions 'cat' in spam and 'cat' in spam.keys()?\n",
    "\n",
    "\n",
    "# spam={'cat':'mew'}  by considering this\n",
    "\n",
    "# There is no difference. The in operator checks whether a value exists as a key in the dictionary. 'cat' in spam checks whether there is a 'cat' key in the dictionary, while 'cat' in spam. values() checks whether there is a value 'cat' for one of the keys in spam .\n",
    "\n",
    "# 'cat' in spam  \n",
    "# gives us True as output if cat is present in dict as key\n",
    "\n",
    "# 'cat' in spam.keys() \n",
    "# gives us False as output as cat is not present in values.\n",
    "\n"
   ]
  },
  {
   "cell_type": "code",
   "execution_count": null,
   "metadata": {},
   "outputs": [],
   "source": [
    "# 6. If a dictionary is stored in spam, what is the difference between the expressions 'cat' in spam and 'cat' in spam.values()?\n",
    "\n",
    "\n",
    "# spam={'cat':'mew'}  by considering this\n",
    "\n",
    "# there is difference in output.\n",
    "\n",
    "# 'cat' in spam  \n",
    "# gives us True as output if cat is present in dict as key\n",
    "\n",
    "# 'cat' in spam.values() \n",
    "# gives us False as output as cat is not present in values.\n"
   ]
  },
  {
   "cell_type": "code",
   "execution_count": null,
   "metadata": {},
   "outputs": [],
   "source": [
    "# 7. What is a shortcut for the following code?\n",
    "\n",
    "# spam['color']='black'\n",
    " \n",
    "    \n",
    "# we can add directly by this bcz color is key and dupliacate keys are creates in dictionary.\n",
    "#  if color key not vaialble then it will creat dict of that."
   ]
  },
  {
   "cell_type": "code",
   "execution_count": null,
   "metadata": {},
   "outputs": [],
   "source": [
    "# 8. How do you \"pretty print\" dictionary values using which module and function?\n",
    "\n",
    "# Within the pprint module there is a function with the same name pprint(), which is the function used to pretty-print the given string or object.\n",
    "\n",
    "# First, declare an array of dictionaries. Afterward, pretty print it using the function pprint.pprint()"
   ]
  }
 ],
 "metadata": {
  "kernelspec": {
   "display_name": "Python 3",
   "language": "python",
   "name": "python3"
  },
  "language_info": {
   "codemirror_mode": {
    "name": "ipython",
    "version": 3
   },
   "file_extension": ".py",
   "mimetype": "text/x-python",
   "name": "python",
   "nbconvert_exporter": "python",
   "pygments_lexer": "ipython3",
   "version": "3.7.4"
  }
 },
 "nbformat": 4,
 "nbformat_minor": 2
}
