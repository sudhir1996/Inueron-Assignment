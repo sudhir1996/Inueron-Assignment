{
 "cells": [
  {
   "cell_type": "code",
   "execution_count": 5,
   "metadata": {},
   "outputs": [
    {
     "name": "stdout",
     "output_type": "stream",
     "text": [
      "Enter value :-135\n",
      "135  is a disarium number\n"
     ]
    }
   ],
   "source": [
    "# 1.\tWrite a Python program to check if the given number is a Disarium Number?\n",
    "\n",
    "def calculateLength(n):    \n",
    "    length = 0   \n",
    "    while(n != 0):    \n",
    "        length = length + 1 \n",
    "        n = n//10  \n",
    "    return length    \n",
    "     \n",
    "num = int(input(\"Enter value :-\"))\n",
    "rem = sum = 0 \n",
    "len = calculateLength(num)\n",
    "     \n",
    "#makes a copy of the original number num    \n",
    "n = num\n",
    "         \n",
    "while(num > 0):    \n",
    "    rem = num%10 \n",
    "    sum = sum + int(rem**len) \n",
    "    num = num//10  \n",
    "    len = len - 1   \n",
    "        \n",
    "if(sum == n):    \n",
    "    print(str(n),\" is a disarium number\")\n",
    "else:    \n",
    "    print(str(n),\" is not a disarium number\")"
   ]
  },
  {
   "cell_type": "code",
   "execution_count": 6,
   "metadata": {},
   "outputs": [
    {
     "name": "stdout",
     "output_type": "stream",
     "text": [
      "Enter lowest number :-1\n",
      "Enter highest number :-100\n",
      "Disarium number bet (1, 100) is as\n",
      "1, 2, 3, 4, 5, 6, 7, 8, 9, 89, "
     ]
    }
   ],
   "source": [
    "# 2.\tWrite a Python program to print all disarium numbers between 1 to 100?\n",
    "\n",
    "def calculateLength(n):    \n",
    "    length = 0   \n",
    "    while(n != 0):    \n",
    "        length = length + 1 \n",
    "        n = n//10  \n",
    "    return length  \n",
    "\n",
    "n = num\n",
    "def sumofdigits(num):\n",
    "    rem = sum = 0 \n",
    "    len=calculateLength(num)\n",
    "    \n",
    "    while(num > 0):\n",
    "        rem = num%10 \n",
    "        sum = sum + int(rem**len) \n",
    "        num = num//10  \n",
    "        len = len - 1  \n",
    "    return sum\n",
    "     \n",
    "lower_bound=int(input(\"Enter lowest number :-\"))\n",
    "upper_bound=int(input(\"Enter highest number :-\"))\n",
    "\n",
    "print(f'Disarium number bet {lower_bound, upper_bound} is as')\n",
    "for i in range(lower_bound, upper_bound+1):\n",
    "    result=sumofdigits(i)\n",
    "        \n",
    "    if result==i:\n",
    "        print(i,end=\", \")"
   ]
  },
  {
   "cell_type": "code",
   "execution_count": 2,
   "metadata": {},
   "outputs": [
    {
     "data": {
      "text/plain": [
       "True"
      ]
     },
     "execution_count": 2,
     "metadata": {},
     "output_type": "execute_result"
    }
   ],
   "source": [
    "# 3.\tWrite a Python program to check if the given number is Happy Number?\n",
    "\n",
    "def happy_numbers(n):\n",
    "    lst = list()\n",
    "    while n != 1:\n",
    "        n = sum(int(i)**2 for i in str(n))\n",
    "        if n in lst:\n",
    "            return False\n",
    "        lst.append(n)\n",
    "    return True\n",
    "\n",
    "happy_numbers(19)"
   ]
  },
  {
   "cell_type": "code",
   "execution_count": 1,
   "metadata": {},
   "outputs": [
    {
     "name": "stdout",
     "output_type": "stream",
     "text": [
      "All happy numbers between 1 and 100\n",
      "[1, 7, 10, 13, 19, 23, 28, 31, 32, 44, 49, 68, 70, 79, 82, 86, 91, 94, 97]\n"
     ]
    }
   ],
   "source": [
    "# 4.\tWrite a Python program to print all happy numbers between 1 and 100?\n",
    "\n",
    "def happy_numbers(n):\n",
    "    lst = list()\n",
    "    while n != 1:\n",
    "        n = sum(int(i)**2 for i in str(n))\n",
    "        if n in lst:\n",
    "            return False\n",
    "        lst.append(n)\n",
    "    return True\n",
    "print(\"All happy numbers between 1 and 100\")\n",
    "print([x for x in range(100) if happy_numbers(x)])"
   ]
  },
  {
   "cell_type": "code",
   "execution_count": 3,
   "metadata": {},
   "outputs": [
    {
     "data": {
      "text/plain": [
       "True"
      ]
     },
     "execution_count": 3,
     "metadata": {},
     "output_type": "execute_result"
    }
   ],
   "source": [
    "# 5.\tWrite a Python program to determine whether the given number is a Harshad Number?\n",
    "\n",
    "def harshad_numbers(n):\n",
    "    lst = list()\n",
    "    while n != 1:\n",
    "        num = sum(int(i) for i in str(n))\n",
    "        if n%num !=0:\n",
    "            return False\n",
    "        else: \n",
    "            return True\n",
    "        \n",
    "harshad_numbers(156)"
   ]
  },
  {
   "cell_type": "code",
   "execution_count": null,
   "metadata": {},
   "outputs": [],
   "source": [
    "# 6.\tWrite a Python program to print all pronic numbers between 1 and 100?\n",
    "\n",
    "n=int(input(\"Enter a number\"))\n",
    "f=0\n",
    "for i in range(n):\n",
    "    if i* (i+1)==n:\n",
    "        f=1\n",
    "        break\n",
    "if f==1:\n",
    "    print(n,\"is a Pronic number\")\n",
    "else:\n",
    "     print(n,\"is not a Pronic number\")"
   ]
  },
  {
   "cell_type": "code",
   "execution_count": null,
   "metadata": {},
   "outputs": [],
   "source": []
  },
  {
   "cell_type": "code",
   "execution_count": null,
   "metadata": {},
   "outputs": [],
   "source": []
  }
 ],
 "metadata": {
  "kernelspec": {
   "display_name": "Python 3",
   "language": "python",
   "name": "python3"
  },
  "language_info": {
   "codemirror_mode": {
    "name": "ipython",
    "version": 3
   },
   "file_extension": ".py",
   "mimetype": "text/x-python",
   "name": "python",
   "nbconvert_exporter": "python",
   "pygments_lexer": "ipython3",
   "version": "3.7.4"
  }
 },
 "nbformat": 4,
 "nbformat_minor": 2
}
