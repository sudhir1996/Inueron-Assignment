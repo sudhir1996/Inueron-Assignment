{
 "cells": [
  {
   "cell_type": "code",
   "execution_count": 1,
   "metadata": {},
   "outputs": [
    {
     "data": {
      "text/plain": [
       "30"
      ]
     },
     "execution_count": 1,
     "metadata": {},
     "output_type": "execute_result"
    }
   ],
   "source": [
    "# 1.Question1. Create a function that takes three arguments a, b, c and returns the sum of the numbers that are evenly divided by c from the range a, b inclusive.\n",
    "\n",
    "def func(a,b,c):\n",
    "    total=0\n",
    "    for i in range(a,b+1):\n",
    "        if i%c==0:\n",
    "            total+=i\n",
    "    return total\n",
    "\n",
    "func(1,10,2)\n",
    "            "
   ]
  },
  {
   "cell_type": "code",
   "execution_count": 2,
   "metadata": {},
   "outputs": [
    {
     "name": "stdout",
     "output_type": "stream",
     "text": [
      "True\n",
      "False\n",
      "True\n"
     ]
    }
   ],
   "source": [
    "# 2. Create a function that returns True if a given inequality expression is correct and False otherwise.\n",
    "\n",
    "def func(deg):\n",
    "    return eval(deg)\n",
    "    \n",
    "\n",
    "print(func(\"3 < 7 < 11\"))\n",
    "print(func(\"13 > 44 > 33 > 1\"))\n",
    "print(func(\"1 < 2 < 6 < 9 > 3\"))"
   ]
  },
  {
   "cell_type": "code",
   "execution_count": 3,
   "metadata": {},
   "outputs": [
    {
     "data": {
      "text/plain": [
       "'m@nn@@ m@@s@'"
      ]
     },
     "execution_count": 3,
     "metadata": {},
     "output_type": "execute_result"
    }
   ],
   "source": [
    "# 3. Create a function that replaces all the vowels in a string with a specified character\n",
    "\n",
    "\n",
    "def rep_vowels(s):\n",
    "    schar = \"@\"\n",
    "    res= \"\"\n",
    "    for letter in s:\n",
    "        if letter in {\"a\",\"e\",\"i\",\"o\",\"u\",\"A\",\"E\",\"I\",\"O\",\"U\"}: \n",
    "            res+= schar \n",
    "        else:\n",
    "            res+= letter \n",
    "    return  res\n",
    "            \n",
    "rep_vowels(\"minnie mouse\")      "
   ]
  },
  {
   "cell_type": "code",
   "execution_count": 5,
   "metadata": {},
   "outputs": [
    {
     "name": "stdout",
     "output_type": "stream",
     "text": [
      "Enter a number: 5\n",
      "The factorial of 5 is 120\n"
     ]
    }
   ],
   "source": [
    "# 4. Write a function that calculates the factorial of a number recursively.\n",
    "\n",
    "\n",
    "def recur_factorial(n):  \n",
    "   if n == 1:  \n",
    "       return n  \n",
    "   else:  \n",
    "       return n*recur_factorial(n-1)  \n",
    "    \n",
    "num = int(input(\"Enter a number: \"))\n",
    "print(\"The factorial of\",num,\"is\",recur_factorial(num))"
   ]
  },
  {
   "cell_type": "code",
   "execution_count": 6,
   "metadata": {},
   "outputs": [
    {
     "name": "stdout",
     "output_type": "stream",
     "text": [
      "hamming Distance :4- b vs d is the only difference\n",
      "1\n"
     ]
    }
   ],
   "source": [
    "# 5. Hamming distance is the number of characters that differ between two strings.\n",
    "\n",
    "def hamming_dist(s1,s2):\n",
    "    result=0\n",
    "    if len(s1)!=len(s2):\n",
    "        print(\"String are not equal\")\n",
    "    else:\n",
    "        for x,(i,j) in enumerate(zip(s1,s2)):\n",
    "            if i!=j:\n",
    "                print(f'hamming Distance :{x}- {i} vs {j} is the only difference')\n",
    "                result+=1\n",
    "    return result\n",
    "s1=\"abcbba\"\n",
    "s2=\"abcbda\"\n",
    "print(hamming_dist(s1,s2))"
   ]
  },
  {
   "cell_type": "code",
   "execution_count": null,
   "metadata": {},
   "outputs": [],
   "source": []
  }
 ],
 "metadata": {
  "kernelspec": {
   "display_name": "Python 3",
   "language": "python",
   "name": "python3"
  },
  "language_info": {
   "codemirror_mode": {
    "name": "ipython",
    "version": 3
   },
   "file_extension": ".py",
   "mimetype": "text/x-python",
   "name": "python",
   "nbconvert_exporter": "python",
   "pygments_lexer": "ipython3",
   "version": "3.7.4"
  }
 },
 "nbformat": 4,
 "nbformat_minor": 2
}
