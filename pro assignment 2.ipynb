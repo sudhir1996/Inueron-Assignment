{
 "cells": [
  {
   "cell_type": "code",
   "execution_count": 1,
   "metadata": {},
   "outputs": [
    {
     "name": "stdout",
     "output_type": "stream",
     "text": [
      "Enter value in kilometer :-20.50\n",
      "Conversio of 20.5 km in meter is 20500.0\n"
     ]
    }
   ],
   "source": [
    "# 1.\tWrite a Python program to convert kilometers to miles?\n",
    "\n",
    "km=float(input(\"Enter value in kilometer :-\"))\n",
    "fact=1000\n",
    "print(f\"Conversio of {km} km in meter is\",km*fact)"
   ]
  },
  {
   "cell_type": "code",
   "execution_count": 2,
   "metadata": {},
   "outputs": [
    {
     "name": "stdout",
     "output_type": "stream",
     "text": [
      "enter a temperature in celsius :-30\n",
      "Conversio of 30.0 celsius in fahrenheit is 86.0\n"
     ]
    }
   ],
   "source": [
    "# 2.\tWrite a Python program to convert Celsius to Fahrenheit?\n",
    "\n",
    "temp=float(input(\"enter a temperature in celsius :-\"))\n",
    "fah=(temp*1.8)+32\n",
    "print(f\"Conversio of {temp} celsius in fahrenheit is\",fah)"
   ]
  },
  {
   "cell_type": "code",
   "execution_count": 3,
   "metadata": {},
   "outputs": [
    {
     "name": "stdout",
     "output_type": "stream",
     "text": [
      "enter year :-2021\n",
      "enter month :-3\n",
      "     March 2021\n",
      "Mo Tu We Th Fr Sa Su\n",
      " 1  2  3  4  5  6  7\n",
      " 8  9 10 11 12 13 14\n",
      "15 16 17 18 19 20 21\n",
      "22 23 24 25 26 27 28\n",
      "29 30 31\n",
      "\n"
     ]
    }
   ],
   "source": [
    "# 3.\tWrite a Python program to display calendar?\n",
    "\n",
    "import calendar\n",
    "yy=int(input(\"enter year :-\"))\n",
    "mm=int(input(\"enter month :-\"))\n",
    "print(calendar.month(yy,mm))"
   ]
  },
  {
   "cell_type": "code",
   "execution_count": 4,
   "metadata": {},
   "outputs": [
    {
     "name": "stdout",
     "output_type": "stream",
     "text": [
      "quad eq is :- a(x**2)+bx+c \n",
      "Enter value of a :-2\n",
      "Enter value of b :-3\n",
      "Enter value of c :-4\n",
      "to calculate descriminate \n",
      "solution are (-0.75-1.1989578808281798j) nad (-0.75+1.1989578808281798j)\n"
     ]
    }
   ],
   "source": [
    "# 4.\tWrite a Python program to solve quadratic equation?\n",
    "\n",
    "import cmath\n",
    "print(\"quad eq is :- a(x**2)+bx+c \")\n",
    "a=int(input(\"Enter value of a :-\"))\n",
    "b=int(input(\"Enter value of b :-\"))\n",
    "c=int(input(\"Enter value of c :-\"))\n",
    "\n",
    "print(\"to calculate descriminate \")\n",
    "d=(b**2)-(4*a*c)\n",
    "solu1=(-b-cmath.sqrt(d))/(a*2)\n",
    "solu2=(-b+cmath.sqrt(d))/(a*2)\n",
    "\n",
    "print(f\"solution are {solu1} nad {solu2}\" )"
   ]
  },
  {
   "cell_type": "code",
   "execution_count": 5,
   "metadata": {},
   "outputs": [
    {
     "name": "stdout",
     "output_type": "stream",
     "text": [
      "Enter value of a :-4\n",
      "Enter value of b :-6\n",
      "value of a is 6 value of b is 4\n"
     ]
    }
   ],
   "source": [
    "# 5.\tWrite a Python program to swap two variables without temp variable?\n",
    "\n",
    "a=int(input(\"Enter value of a :-\"))\n",
    "b=int(input(\"Enter value of b :-\"))\n",
    "a=a+b\n",
    "b=a-b\n",
    "a=a-b\n",
    "print(f\"value of a is {a} value of b is {b}\")"
   ]
  },
  {
   "cell_type": "code",
   "execution_count": null,
   "metadata": {},
   "outputs": [],
   "source": []
  }
 ],
 "metadata": {
  "kernelspec": {
   "display_name": "Python 3",
   "language": "python",
   "name": "python3"
  },
  "language_info": {
   "codemirror_mode": {
    "name": "ipython",
    "version": 3
   },
   "file_extension": ".py",
   "mimetype": "text/x-python",
   "name": "python",
   "nbconvert_exporter": "python",
   "pygments_lexer": "ipython3",
   "version": "3.7.4"
  }
 },
 "nbformat": 4,
 "nbformat_minor": 2
}
