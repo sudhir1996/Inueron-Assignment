{
 "cells": [
  {
   "cell_type": "code",
   "execution_count": 2,
   "metadata": {},
   "outputs": [
    {
     "name": "stdout",
     "output_type": "stream",
     "text": [
      "Input Values\n",
      "100,150,180\n",
      "The followings output are\n",
      "18,22,24\n"
     ]
    }
   ],
   "source": [
    "# 1.Write a program that calculates and prints the value according to the given formula:\n",
    "\n",
    "Q = Square root of [(2 * C * D)/H]\n",
    "\n",
    "import math\n",
    "\n",
    "c = 50\n",
    "h = 30\n",
    "value = []\n",
    "print(\"Input Values\")\n",
    "items = [x for x in input().split(',')]\n",
    "for d in items:\n",
    "    value.append(str(int(round(math.sqrt(2*c*float(d)/h)))))\n",
    "print(\"The followings output are\")\n",
    "\n",
    "print(','.join(value))"
   ]
  },
  {
   "cell_type": "code",
   "execution_count": 3,
   "metadata": {},
   "outputs": [
    {
     "name": "stdout",
     "output_type": "stream",
     "text": [
      "[[0, 0, 0, 0, 0], [0, 1, 2, 3, 4], [0, 2, 4, 6, 8]]\n"
     ]
    }
   ],
   "source": [
    "# 2. Write a program which takes 2 digits, X,Y as input and generates a 2-dimensional array. The element value in the i-th row and j-th column of the array should be i*j.\n",
    "\n",
    "i,j=3,5\n",
    "print([[0 for k in range(j)]]+[[a for a in range(0,j*b,b)] for b in range(1,i)])"
   ]
  },
  {
   "cell_type": "code",
   "execution_count": 5,
   "metadata": {},
   "outputs": [
    {
     "name": "stdout",
     "output_type": "stream",
     "text": [
      "without,hello,bag,world\n",
      "bag,hello,without,world"
     ]
    }
   ],
   "source": [
    "# 3.Write a program that accepts a comma separated sequence of words as input and prints the words in a comma-separated sequence after sorting them alphabetically.\n",
    "\n",
    "\n",
    "IN = input(\"Enter comma separated sequence of words  :- \").split(',')\n",
    "l = list(IN)\n",
    "l1 = len(l)\n",
    "\n",
    "y = sorted(l)\n",
    "l = y\n",
    "\n",
    "for i in range (l1):\n",
    "    if i == l1-1:\n",
    "        print(l[i],end=\"\")\n",
    "    else:\n",
    "        print(l[i],end=\",\")"
   ]
  },
  {
   "cell_type": "code",
   "execution_count": 6,
   "metadata": {},
   "outputs": [
    {
     "name": "stdout",
     "output_type": "stream",
     "text": [
      "Enter sequence of words : hello world and practice makes perfect and hello world again\n",
      "again and hello makes perfect practice world\n"
     ]
    }
   ],
   "source": [
    "# 4.Write a program that accepts a sequence of whitespace separated words as input and prints the words after removing all duplicate words and sorting them alphanumerically.\n",
    "\n",
    "q1=input(\"Enter sequence of words : \")\n",
    "q2=sorted(set(q1.split(\" \")))\n",
    "print(\" \".join(q2))"
   ]
  },
  {
   "cell_type": "code",
   "execution_count": 8,
   "metadata": {},
   "outputs": [
    {
     "name": "stdout",
     "output_type": "stream",
     "text": [
      "LETTERS 10 \n",
      "DIGITS 3\n"
     ]
    }
   ],
   "source": [
    "# 5.Write a program that accepts a sentence and calculate the number of letters and digits.\n",
    "\n",
    "Suppose the following input is supplied to the program:\n",
    "\n",
    "\n",
    "\n",
    "import re\n",
    "\n",
    "x = 'hello world! 123'\n",
    "\n",
    "digits = len(re.findall('[0-9]', x))\n",
    "letters = len(re.findall('[A-Z]',x.upper()))\n",
    "\n",
    "print('LETTERS', letters, '\\nDIGITS',digits)"
   ]
  },
  {
   "cell_type": "code",
   "execution_count": 9,
   "metadata": {},
   "outputs": [
    {
     "name": "stdout",
     "output_type": "stream",
     "text": [
      "ABd1234@1,a F1#,2w3E*,2We3345\n",
      "['ABd1234@1']\n"
     ]
    }
   ],
   "source": [
    "# 6. A website requires the users to input username and password to register. Write a program to check the validity of password input by users.\n",
    "\n",
    "user_input = input()\n",
    "passwords = user_input.split(\",\")\n",
    "special_chars = [\"$\",\"#\",\"@\"]\n",
    "valid = []\n",
    "\n",
    "for x in passwords:\n",
    "    #check length\n",
    "    if(len(x) > 12 or len(x) < 6):\n",
    "        continue\n",
    "\n",
    "    #check if has both uppercase and lower\n",
    "    if (x.isupper() or x.islower()): \n",
    "        continue\n",
    "    \n",
    "    #check numbers\n",
    "    has_number = any(char.isdigit() for char in x)\n",
    "    if(not has_number):\n",
    "        continue\n",
    "    \n",
    "    #check if has special character\n",
    "    has_char = any(char in special_chars for char in x)\n",
    "    if(not has_char):\n",
    "        continue\n",
    "\n",
    "    #only reached if all checks are passed\n",
    "    valid.append(x)\n",
    "print(valid)"
   ]
  },
  {
   "cell_type": "code",
   "execution_count": null,
   "metadata": {},
   "outputs": [],
   "source": []
  }
 ],
 "metadata": {
  "kernelspec": {
   "display_name": "Python 3",
   "language": "python",
   "name": "python3"
  },
  "language_info": {
   "codemirror_mode": {
    "name": "ipython",
    "version": 3
   },
   "file_extension": ".py",
   "mimetype": "text/x-python",
   "name": "python",
   "nbconvert_exporter": "python",
   "pygments_lexer": "ipython3",
   "version": "3.7.4"
  }
 },
 "nbformat": 4,
 "nbformat_minor": 2
}
