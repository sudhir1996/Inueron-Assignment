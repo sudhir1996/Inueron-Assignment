{
 "cells": [
  {
   "cell_type": "code",
   "execution_count": 8,
   "metadata": {},
   "outputs": [
    {
     "name": "stdout",
     "output_type": "stream",
     "text": [
      "Enter any number :-9\n"
     ]
    },
    {
     "data": {
      "text/plain": [
       "362880"
      ]
     },
     "execution_count": 8,
     "metadata": {},
     "output_type": "execute_result"
    }
   ],
   "source": [
    "# 1.\tWrite a Python Program to Find the Factorial of a Number?\n",
    "\n",
    "import math\n",
    "def facto(num):\n",
    "    return (math.factorial(num))\n",
    "\n",
    "\n",
    "n=int(input(\"Enter any number :-\"))\n",
    "facto(n)"
   ]
  },
  {
   "cell_type": "code",
   "execution_count": 9,
   "metadata": {},
   "outputs": [
    {
     "name": "stdout",
     "output_type": "stream",
     "text": [
      "Enter any number :-89\n"
     ]
    },
    {
     "data": {
      "text/plain": [
       "[89, 178, 267, 356, 445, 534, 623, 712, 801, 890]"
      ]
     },
     "execution_count": 9,
     "metadata": {},
     "output_type": "execute_result"
    }
   ],
   "source": [
    "# 2.\tWrite a Python Program to Display the multiplication Table?\n",
    "\n",
    "\n",
    "num=int(input(\"Enter any number :-\"))\n",
    "[i*num for i in range(1,11)]\n"
   ]
  },
  {
   "cell_type": "code",
   "execution_count": 10,
   "metadata": {},
   "outputs": [
    {
     "name": "stdout",
     "output_type": "stream",
     "text": [
      "Enter any value upto which you want to find seq. :-45\n",
      "0 1 1 2 3 5 8 13 21 34 "
     ]
    }
   ],
   "source": [
    "# 3.\tWrite a Python Program to Print the Fibonacci sequence?\n",
    "\n",
    "n=int(input(\"Enter any value upto which you want to find seq. :-\"))\n",
    "a=0\n",
    "b=1\n",
    "c=0\n",
    "count=1\n",
    "\n",
    "while(c<=n):\n",
    "    print(c, end=\" \")\n",
    "    count+=1\n",
    "    a=b\n",
    "    b=c\n",
    "    c=a+b\n"
   ]
  },
  {
   "cell_type": "code",
   "execution_count": 11,
   "metadata": {},
   "outputs": [
    {
     "data": {
      "text/plain": [
       "True"
      ]
     },
     "execution_count": 11,
     "metadata": {},
     "output_type": "execute_result"
    }
   ],
   "source": [
    "# 4.\tWrite a Python Program to Check Armstrong Number?\n",
    "def order(x):\n",
    "    n = 0\n",
    "    while (x != 0):\n",
    "        n = n + 1\n",
    "        x = x // 10\n",
    "    return n\n",
    "\n",
    "def isArmstrong(x):\n",
    "      \n",
    "    n = order(x)\n",
    "    temp = x\n",
    "    sum1 = 0\n",
    "      \n",
    "    while (temp != 0):\n",
    "        r = temp % 10\n",
    "        sum1 = sum1 + (r**n)\n",
    "        temp = temp // 10\n",
    "    return (sum1 == x)\n",
    "\n",
    "\n",
    "\n",
    "isArmstrong(153)"
   ]
  },
  {
   "cell_type": "code",
   "execution_count": 12,
   "metadata": {},
   "outputs": [
    {
     "name": "stdout",
     "output_type": "stream",
     "text": [
      "Object `Interval` not found.\n",
      "Enter lowest number :-1\n",
      "Enter highest number :-200\n",
      "Armstrong number bet (1, 200) is as\n",
      "1, 2, 3, 4, 5, 6, 7, 8, 9, 153, "
     ]
    }
   ],
   "source": [
    "5.\tWrite a Python Program to Find Armstrong Number in an Interval?\n",
    "\n",
    "def order(x):\n",
    "    n = 0\n",
    "    while (x != 0):\n",
    "        n = n + 1\n",
    "        x = x // 10\n",
    "    return n\n",
    "\n",
    "def isArmstrong(x):\n",
    "      \n",
    "    n = order(x)\n",
    "    temp = x\n",
    "    sum1 = 0\n",
    "      \n",
    "    while (temp != 0):\n",
    "        r = temp % 10\n",
    "        sum1 = sum1 + (r**n)\n",
    "        temp = temp // 10\n",
    "    return sum1\n",
    "\n",
    "\n",
    "lower_bound=int(input(\"Enter lowest number :-\"))\n",
    "upper_bound=int(input(\"Enter highest number :-\"))\n",
    "\n",
    "print(f'Armstrong number bet {lower_bound, upper_bound} is as')\n",
    "for i in range(lower_bound, upper_bound+1):\n",
    "    result=isArmstrong(i)\n",
    "        \n",
    "    if result==i:\n",
    "        print(i,end=\", \")"
   ]
  },
  {
   "cell_type": "code",
   "execution_count": 13,
   "metadata": {},
   "outputs": [
    {
     "name": "stdout",
     "output_type": "stream",
     "text": [
      "Enter any natural number :-100\n"
     ]
    },
    {
     "data": {
      "text/plain": [
       "5050"
      ]
     },
     "execution_count": 13,
     "metadata": {},
     "output_type": "execute_result"
    }
   ],
   "source": [
    "# 6.\tWrite a Python Program to Find the Sum of Natural Numbers?\n",
    "\n",
    "def sumOfnat(n):\n",
    "    total=0\n",
    "    for i in range(1,n+1):\n",
    "        total+=int(i)\n",
    "    return total\n",
    "\n",
    "n=int(input(\"Enter any natural number :-\"))\n",
    "sumOfnat(n)"
   ]
  },
  {
   "cell_type": "code",
   "execution_count": null,
   "metadata": {},
   "outputs": [],
   "source": []
  }
 ],
 "metadata": {
  "kernelspec": {
   "display_name": "Python 3",
   "language": "python",
   "name": "python3"
  },
  "language_info": {
   "codemirror_mode": {
    "name": "ipython",
    "version": 3
   },
   "file_extension": ".py",
   "mimetype": "text/x-python",
   "name": "python",
   "nbconvert_exporter": "python",
   "pygments_lexer": "ipython3",
   "version": "3.7.4"
  }
 },
 "nbformat": 4,
 "nbformat_minor": 2
}
